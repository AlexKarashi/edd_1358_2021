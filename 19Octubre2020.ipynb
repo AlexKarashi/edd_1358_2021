{
  "nbformat": 4,
  "nbformat_minor": 0,
  "metadata": {
    "colab": {
      "name": "19Octubre2020.ipynb",
      "provenance": [],
      "authorship_tag": "ABX9TyOpkRhaMq6uXST9pEKI3cQy",
      "include_colab_link": true
    },
    "kernelspec": {
      "name": "python3",
      "display_name": "Python 3"
    }
  },
  "cells": [
    {
      "cell_type": "markdown",
      "metadata": {
        "id": "view-in-github",
        "colab_type": "text"
      },
      "source": [
        "<a href=\"https://colab.research.google.com/github/AlexKarashi/edd_1358_2021/blob/master/19Octubre2020.ipynb\" target=\"_parent\"><img src=\"https://colab.research.google.com/assets/colab-badge.svg\" alt=\"Open In Colab\"/></a>"
      ]
    },
    {
      "cell_type": "code",
      "metadata": {
        "id": "6xdU_f-0aH-k",
        "outputId": "906dfa64-d15a-41a5-b7d3-7ad5b37d6f6d",
        "colab": {
          "base_uri": "https://localhost:8080/",
          "height": 90
        }
      },
      "source": [
        "# read()\n",
        "archivo = open('frutas.txt','rt')\n",
        "#se manda a abrir el acrhivo y de que forma se va a hacer, leer o escribir\n",
        "data = archivo.read()\n",
        "print(data)\n",
        "\n",
        "archivo.close()\n",
        "\n",
        "#pwd muestra el directorio de trabajo"
      ],
      "execution_count": 2,
      "outputs": [
        {
          "output_type": "stream",
          "text": [
            "limon, aguacate, fresa, manzana\n",
            "ciruela, capulin, naranja\n",
            "pera, kiwi\n",
            "\n"
          ],
          "name": "stdout"
        }
      ]
    },
    {
      "cell_type": "code",
      "metadata": {
        "id": "XcZHUCd3d-5O",
        "outputId": "bee64d9c-f175-4dab-da43-954a6243b46a",
        "colab": {
          "base_uri": "https://localhost:8080/",
          "height": 127
        }
      },
      "source": [
        "#readline()\n",
        "#lee linea por linea de el archivo}\n",
        "\n",
        "archivo = open('frutas.txt', 'rt')\n",
        "#aunque se repita el print, solo va a llegar hasta donde tenga las lineas el archivo\n",
        "#despues solo imprime lineas vacias \n",
        "print(archivo.readline())\n",
        "data= archivo.readline()\n",
        "while data!= \"\":\n",
        "    print(data)\n",
        "    data =archivo.readline()\n",
        "archivo.close()\n"
      ],
      "execution_count": 5,
      "outputs": [
        {
          "output_type": "stream",
          "text": [
            "limon, aguacate, fresa, manzana\n",
            "\n",
            "ciruela, capulin, naranja\n",
            "\n",
            "pera, kiwi\n",
            "\n"
          ],
          "name": "stdout"
        }
      ]
    },
    {
      "cell_type": "code",
      "metadata": {
        "id": "DCmAt2QUgDpv",
        "outputId": "5904e34e-5bb9-4a61-faab-2ec8dc5bbbac",
        "colab": {
          "base_uri": "https://localhost:8080/",
          "height": 54
        }
      },
      "source": [
        "#readlines()\n",
        "archivo = open('frutas.txt', 'rt')\n",
        "data = archivo.readlines()\n",
        "print(data)\n",
        "frutas = []\n",
        "for linea in data:\n",
        "    frutas.append(linea.strip())\n",
        "frutas_final =[]\n",
        "for elem in frutas:\n",
        "    for frutas in elem.split(','):\n",
        "        frutas_final.append(frutas.strip())\n",
        "print(frutas_final)\n",
        "\n",
        "archivo.close()"
      ],
      "execution_count": 13,
      "outputs": [
        {
          "output_type": "stream",
          "text": [
            "['limon, aguacate, fresa, manzana\\n', 'ciruela, capulin, naranja\\n', 'pera, kiwi\\n']\n",
            "['limon', 'aguacate', 'fresa', 'manzana', 'ciruela', 'capulin', 'naranja', 'pera', 'kiwi']\n"
          ],
          "name": "stdout"
        }
      ]
    },
    {
      "cell_type": "markdown",
      "metadata": {
        "id": "HiWliwp9lG6S"
      },
      "source": [
        "# POO con python\n",
        "- clases\n",
        "- objetos \n",
        "- atributos \n",
        "- metodos\n",
        "- metodo constructor\n",
        "- encapsulamiento (publico y privado)\n",
        "- herencia\n",
        "Declarar clases en python se usa la palabra reservada class"
      ]
    },
    {
      "cell_type": "code",
      "metadata": {
        "id": "cBh9uhJflto1",
        "outputId": "eab4099c-e1d3-48d9-dd3d-0fb8b0861513",
        "colab": {
          "base_uri": "https://localhost:8080/",
          "height": 54
        }
      },
      "source": [
        "class Persona:\n",
        "    def __init__( self, edd, est ):\n",
        "        self.__edad = edd\n",
        "        self.__estatura= est\n",
        "# con __ se ponene en privado los datos para evitar su modificacion        \n",
        "    def to_string( self ):\n",
        "        print(f'Edad={self.__edad}, est={self.__estatura}')\n",
        "           \n",
        "\n",
        "per1 = Persona(23, 1.78)\n",
        "per1.to_string()\n",
        "per1.estatura = 10.4\n",
        "per1.to_string()"
      ],
      "execution_count": 20,
      "outputs": [
        {
          "output_type": "stream",
          "text": [
            "Edad=23, est=1.78\n",
            "Edad=23, est=1.78\n"
          ],
          "name": "stdout"
        }
      ]
    }
  ]
}