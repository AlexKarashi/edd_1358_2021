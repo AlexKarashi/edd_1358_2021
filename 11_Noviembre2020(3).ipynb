{
  "nbformat": 4,
  "nbformat_minor": 0,
  "metadata": {
    "colab": {
      "name": "11 Noviembre2020(2).ipynb",
      "provenance": [],
      "authorship_tag": "ABX9TyM3M6Yu1S66jwd2CDVvMvP0",
      "include_colab_link": true
    },
    "kernelspec": {
      "name": "python3",
      "display_name": "Python 3"
    }
  },
  "cells": [
    {
      "cell_type": "markdown",
      "metadata": {
        "id": "view-in-github",
        "colab_type": "text"
      },
      "source": [
        "<a href=\"https://colab.research.google.com/github/AlexKarashi/edd_1358_2021/blob/master/11_Noviembre2020(3).ipynb\" target=\"_parent\"><img src=\"https://colab.research.google.com/assets/colab-badge.svg\" alt=\"Open In Colab\"/></a>"
      ]
    },
    {
      "cell_type": "code",
      "metadata": {
        "id": "KheQ3VOuN-oS",
        "colab": {
          "base_uri": "https://localhost:8080/"
        },
        "outputId": "a259cc24-22d6-4177-fe1f-340db06f8aa3"
      },
      "source": [
        "class Nodo:\n",
        "    def __init__( self ,  dato):\n",
        "        self.dato= dato\n",
        "        self.siguiente = None\n",
        "    \n",
        "#Ejemplo quitar datos de un nodo\n",
        "a=  Nodo(10)\n",
        "print(a.dato)\n",
        "print(a.siguiente)\n",
        "\n",
        "# ejemplo 2\n",
        "a.siguiente = Nodo(20)\n",
        "\n",
        "#Ejemplo 3\n",
        "a.siguiente.siguiente = Nodo(30)\n",
        "\n",
        "#ejemplo 4\n",
        "a.siguiente.siguiente.siguiente = Nodo(40)\n",
        "\n",
        "#Ejemplo 5\n",
        "a.siguiente.siguiente.siguiente.siguiente = Nodo(50)\n",
        "\n",
        "\n",
        "\n",
        "#REcorido transversal\n",
        "curr_node = a\n",
        "print(curr_node.dato , \"|-->\",end  =\"\")\n",
        "while (curr_node.siguiente != None):\n",
        "    curr_node =curr_node.siguiente\n",
        "    print(curr_node.dato,\"|-->\", end=\"\")\n",
        "print(\"\")\n",
        "\n",
        "\n",
        "\n",
        "#Ejemplo 6 para ecambiar el valor de un nodo \n",
        "a.siguiente.siguiente.siguiente.dato =45\n",
        "\n",
        "\n",
        "#Ejemplo 7\n",
        "a.siguiente.siguiente.dato= 35\n",
        "\n",
        "#Sirven para eliminar nodos de la estructura\n",
        "#Ejemplo 8\n",
        "a.siguiente.siguiente = a.siguiente.siguiente.siguiente\n",
        "\n",
        "#Ejmplo 9\n",
        "a.siguiente= a.siguiente.siguiente.siguiente.siguiente\n",
        "\n",
        "\n",
        "#Recorido transversal\n",
        "curr_node = a\n",
        "print(curr_node.dato , \"|-->\",end  =\"\")\n",
        "while (curr_node.siguiente != None):\n",
        "    curr_node =curr_node.siguiente\n",
        "    print(curr_node.dato,\"|-->\", end=\"\")\n",
        "print(\"\")\n",
        "\n"
      ],
      "execution_count": 18,
      "outputs": [
        {
          "output_type": "stream",
          "text": [
            "10\n",
            "None\n",
            "10 |-->20 |-->30 |-->40 |-->50 |-->\n",
            "10 |-->\n"
          ],
          "name": "stdout"
        }
      ]
    },
    {
      "cell_type": "code",
      "metadata": {
        "colab": {
          "base_uri": "https://localhost:8080/"
        },
        "id": "kKJqzhzmJM_x",
        "outputId": "7b738854-284c-4d4f-a10a-0c143b7e24d7"
      },
      "source": [
        "#codigo del 18 de noviembre de 2020\n",
        "class Nodo:\n",
        "    def __init__( self ,  dato, siguiente= None):\n",
        "        self.dato= dato\n",
        "        self.siguiente = siguiente\n",
        "\n",
        "head = Nodo( 10 , Nodo(20, Nodo(30, Nodo(40, Nodo(50) ) ) ) )\n",
        " \n",
        " #Recorrido transversal\n",
        "curr_node = head\n",
        "print(curr_node.dato , \"|-->\",end  =\"\")\n",
        "while (curr_node.siguiente != None):\n",
        "    curr_node =curr_node.siguiente\n",
        "    print(curr_node.dato,\"|-->\", end=\"\")\n",
        "print(\"\")\n",
        "\n",
        "#Insertar el nodo 35 despues del nodo 30\n",
        "anterior= head.siguiente.siguiente\n",
        "print(anterior.dato)\n",
        "nuevo= Nodo(35)\n",
        "nuevo.siguiente= anterior.siguiente\n",
        "print(nuevo.siguiente.dato)\n",
        "anterior.siguiente= nuevo\n",
        "\n",
        " #Recorrido transversal\n",
        "curr_node = head\n",
        "print(curr_node.dato , \"|--> \",end  =\"\")\n",
        "while (curr_node.siguiente != None):\n",
        "    curr_node =curr_node.siguiente\n",
        "    print(curr_node.dato,\"|--> \", end=\"\")\n",
        "print(\"\")\n",
        "\n",
        "#Eliminar el nodo 20\n",
        "head.siguiente= head.siguiente.siguiente\n",
        "\n",
        "#Recorrido transversal\n",
        "curr_node = head\n",
        "print(curr_node.dato , \"|--> \",end  =\"\")\n",
        "while (curr_node.siguiente != None):\n",
        "    curr_node =curr_node.siguiente\n",
        "    print(curr_node.dato,\"|--> \", end=\"\")\n",
        "print(\"\")\n",
        "\n"
      ],
      "execution_count": 17,
      "outputs": [
        {
          "output_type": "stream",
          "text": [
            "10 |-->20 |-->30 |-->40 |-->50 |-->\n",
            "30\n",
            "40\n",
            "10 |--> 20 |--> 30 |--> 35 |--> 40 |--> 50 |--> \n",
            "10 |--> 30 |--> 35 |--> 40 |--> 50 |--> \n"
          ],
          "name": "stdout"
        }
      ]
    },
    {
      "cell_type": "code",
      "metadata": {
        "id": "8_HHkmt4VX_7"
      },
      "source": [
        "class Nodo:\n",
        "    def __init__( self ,  dato, siguiente= None):\n",
        "        self.dato= dato\n",
        "        self.siguiente = siguiente\n",
        "\n",
        "class LinkedList:\n",
        "    def __init__(self):\n",
        "        self.__head = None\n",
        "#regresa la lista si esta vacia\n",
        "    def is_empty(self):\n",
        "        return self.__head == None\n",
        "\n",
        "    def tail(self):\n",
        "        curr_node = self.__head\n",
        "        while curr_node != None  and curr_node.siguiente != None:\n",
        "            curr_node = curr_node.siguiente\n",
        "        return curr_node\n",
        "\n",
        "    def append (self, value) :\n",
        "        nuevo = Nodo(value)\n",
        "        if self.__head == None:\n",
        "            self.__head = nuevo\n",
        "        else:\n",
        "            self.tail().siguiente = nuevo\n",
        "\n",
        "    def transversal(self):\n",
        "        curr_node = self.__head\n",
        "        if curr_node == None:\n",
        "            print(\"lista vacia\")\n",
        "        else:\n",
        "            while curr_node != None :\n",
        "                print(f\"{curr_node.dato}-->\", end=\"\")\n",
        "                curr_node = curr_node.siguiente\n",
        "        print(\"\")\n",
        "#agregar un nodo al inicio\n",
        "    def prepend( self, value):\n",
        "        nuevo = Nodo (value)\n",
        "        if self.__head == None:\n",
        "            self.__head == nuevo\n",
        "        else:\n",
        "            x = self.__head\n",
        "            self.__head = nuevo\n",
        "            nuevo.siguiente = x\n",
        "#otra manera es  mas adecuada es \n",
        "    \"\"\"def prepend(self, value):\n",
        "        nuevo = Nodo(value, self.__head)\n",
        "        self.__head = nuevo\"\"\"\n",
        "#eliminar la primera coincidencia        \n",
        "    #def remove\n",
        "#regresa el valor de la posisción solicitada\n",
        "    #def pop"
      ],
      "execution_count": 48,
      "outputs": []
    },
    {
      "cell_type": "code",
      "metadata": {
        "colab": {
          "base_uri": "https://localhost:8080/"
        },
        "id": "s2lTaAyl4IOu",
        "outputId": "9bb32e9d-61b3-4713-d374-b4ecfdc379d7"
      },
      "source": [
        "l = LinkedList()\n",
        "print(f\"l esta vacia? =  {l.is_empty()}\")\n",
        "x = l.tail()\n",
        "print(x)\n",
        "l.append(10)\n",
        "l.append(20)\n",
        "l.append(30)\n",
        "l.append(40)\n",
        "l.append(50)\n",
        "\n",
        "l.transversal()\n",
        "l.prepend(5)\n",
        "l.transversal()"
      ],
      "execution_count": 50,
      "outputs": [
        {
          "output_type": "stream",
          "text": [
            "l esta vacia? =  True\n",
            "None\n",
            "10-->20-->30-->40-->50-->\n",
            "5-->10-->20-->30-->40-->50-->\n"
          ],
          "name": "stdout"
        }
      ]
    }
  ]
}