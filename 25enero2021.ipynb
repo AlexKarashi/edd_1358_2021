{
  "nbformat": 4,
  "nbformat_minor": 0,
  "metadata": {
    "colab": {
      "name": "25enero2021.ipynb",
      "provenance": [],
      "authorship_tag": "ABX9TyP/DJbZjh9OzdnT7UzEbye1",
      "include_colab_link": true
    },
    "kernelspec": {
      "name": "python3",
      "display_name": "Python 3"
    }
  },
  "cells": [
    {
      "cell_type": "markdown",
      "metadata": {
        "id": "view-in-github",
        "colab_type": "text"
      },
      "source": [
        "<a href=\"https://colab.research.google.com/github/AlexKarashi/edd_1358_2021/blob/master/25enero2021.ipynb\" target=\"_parent\"><img src=\"https://colab.research.google.com/assets/colab-badge.svg\" alt=\"Open In Colab\"/></a>"
      ]
    },
    {
      "cell_type": "code",
      "metadata": {
        "id": "gnWKDS8O2ZSN"
      },
      "source": [
        "class Nodoarbol:\r\n",
        "    def __init__( self, value, left = None, right = None):\r\n",
        "        self.data = value\r\n",
        "        self.left = left\r\n",
        "        self.right = right\r\n",
        "    "
      ],
      "execution_count": 20,
      "outputs": []
    },
    {
      "cell_type": "code",
      "metadata": {
        "id": "zP6ZTxVCS1bS"
      },
      "source": [
        "class ArbolBinarioBusq:\r\n",
        "    def __init__ (self):\r\n",
        "        self.__root = None\r\n",
        "\r\n",
        "    def insert(self, value ):\r\n",
        "        if self.__root == None:\r\n",
        "            self.__root = Nodoarbol(value)\r\n",
        "        else:\r\n",
        "            self.__insert__(  self.__root, value)\r\n",
        "\r\n",
        "    def __insert__(self, nodo, value): # los __ significa que esta encapsulado, y este va a ser usado para la recursividad\r\n",
        "        if nodo.data == value:\r\n",
        "            print(\"el nodo ya existe, no se inserta\", value)\r\n",
        "        elif value < nodo.data:\r\n",
        "            # ir izquierda\r\n",
        "            if nodo.left == None:\r\n",
        "                nodo.left = Nodoarbol( value,  None, None )\r\n",
        "            else:\r\n",
        "                self.__insert__( nodo.left, value,)\r\n",
        "        else:\r\n",
        "            #ir a la derecha\r\n",
        "            if nodo.right == None:\r\n",
        "                nodo.right = Nodoarbol( value, None, None )\r\n",
        "            else:\r\n",
        "                self.__insert__( nodo.right, value)\r\n",
        "    \r\n",
        "    def transversal( self , format = \"in\"): #in, pos, re (formato con el cual va a estar el arbol)\r\n",
        "        if format == \"in\":\r\n",
        "            self.__recorrido_in(self.__root)\r\n",
        "            print(\"\\n Recorrido en pre orden\")\r\n",
        "        elif format == \"pre\":\r\n",
        "            self.__recorrido_pre(self.__root)\r\n",
        "            print(\"\\n Recorrido en pre orden\")\r\n",
        "        elif format == \"pos\":\r\n",
        "            self.__recorrido_pos(self.__root)\r\n",
        "            print(\"\\n Recorrido en pos orden\")\r\n",
        "        else:\r\n",
        "            print(\"\\n recorrido no valido\")\r\n",
        "\r\n",
        "    def __recorrido_in(self, nodo):\r\n",
        "        if nodo == None:\r\n",
        "            #print(\"Caso base\")\r\n",
        "            pass\r\n",
        "        else:\r\n",
        "            self:__recorrido_in(nodo.left)\r\n",
        "            print(nodo.data, end=\",\")\r\n",
        "            self.__recorrido_in(nodo.right)\r\n",
        "\r\n",
        "    def __recorrido_pos( self , nodo ):\r\n",
        "        if nodo == None:\r\n",
        "            pass\r\n",
        "        else:\r\n",
        "            self.__recorrido_pos( nodo.left )\r\n",
        "            self.__recorrido_pos( nodo.right )  \r\n",
        "            print(nodo.data , end=\",\")  \r\n",
        "\r\n",
        "    def __recorrido_pre( self , nodo ):\r\n",
        "        if nodo == None:\r\n",
        "            pass\r\n",
        "        else:\r\n",
        "            print(nodo.data , end=\",\")\r\n",
        "            self.__recorrido_pre( nodo.left )\r\n",
        "            self.__recorrido_pre( nodo.right )\r\n",
        "\r\n",
        "    def search(self, value) :\r\n",
        "        if self.__root == None:\r\n",
        "            print(\"Arbol vacio\")\r\n",
        "        else:\r\n",
        "            return self.__search( self.__root, value)\r\n",
        "    def __search( self, nodo, value):\r\n",
        "        if nodo == None:\r\n",
        "            return None\r\n",
        "        elif nodo.data == value:\r\n",
        "            return nodo\r\n",
        "        elif value < nodo.data:\r\n",
        "            print(\"ir a la izquierda\")\r\n",
        "            return self.__search (nodo.left, value)\r\n",
        "        else:\r\n",
        "            print(\" ir a la derecha\")\r\n",
        "            return self.__search (nodo.right, value)\r\n",
        "\r\n",
        "    def remove(self, value):\r\n",
        "        if self.__root == None:\r\n",
        "            print(\"Arbol  vacio\")\r\n",
        "            #El que se desea eliminar es raiz\r\n",
        "        else:\r\n",
        "            self.__remove(None, None, self.__root, value)\r\n",
        "\r\n",
        "    def  __remove( self, padre_hi, padre_hd, actual, value):\r\n",
        "        if actual == None :\r\n",
        "            print(\"Caso base\")\r\n",
        "            return None\r\n",
        "        elif actual.data == value:\r\n",
        "            print(\"\\n Encontrado\", actual.data)\r\n",
        "            #Caso 1 : es nodo hoja\r\n",
        "            if actual.left == None and actual.right == None:\r\n",
        "                if padre_hi != None:\r\n",
        "                    padre_hi.left = None\r\n",
        "                else:\r\n",
        "                    padre_hd.right = None\r\n",
        "            # caso 2: tiene 1 hijo\r\n",
        "            elif  (actual.left != None and actual.right == None) or (actual.right != None and actual.left == None):\r\n",
        "                if actual.left != None:\r\n",
        "                    aux = actual.left\r\n",
        "                    actual.left = None\r\n",
        "                    actual = None\r\n",
        "                    actual = aux\r\n",
        "                else:\r\n",
        "                    print(\"Hijo der\", actual.right)\r\n",
        "                    aux = actual.right\r\n",
        "                    actual.right = None\r\n",
        "                    actual = None\r\n",
        "                    actual = aux\r\n",
        "\r\n",
        "            #Caso 3 Tiene dos hijos\r\n",
        "            \r\n",
        "            \r\n",
        "        elif actual.data < value.data:\r\n",
        "            self.__remove(actual, None, actual.left)\r\n",
        "        else:\r\n",
        "            self.__remove(actual, None, actual.right)\r\n"
      ],
      "execution_count": 28,
      "outputs": []
    },
    {
      "cell_type": "code",
      "metadata": {
        "colab": {
          "base_uri": "https://localhost:8080/",
          "height": 548
        },
        "id": "Ds7TL-3ndH-v",
        "outputId": "4112eeb1-df1d-4a94-cf37-d4c71cd6c661"
      },
      "source": [
        "add= ArbolBinarioBusq()\r\n",
        "add.insert(50)\r\n",
        "add.insert(30)\r\n",
        "add.insert(60)\r\n",
        "add.insert(35)\r\n",
        "add.insert(89)\r\n",
        "add.insert(55)\r\n",
        "add.insert(1)\r\n",
        "add.insert(50)\r\n",
        "add.insert(30)\r\n",
        "add.insert(60)\r\n",
        "\r\n",
        "\r\n",
        "add.transversal(\"in\")\r\n",
        "add.transversal(\"pos\")\r\n",
        "add.transversal(\"pre\")\r\n",
        "add.remove(55)\r\n",
        "\r\n"
      ],
      "execution_count": 29,
      "outputs": [
        {
          "output_type": "stream",
          "text": [
            "el nodo ya existe, no se inserta 50\n",
            "el nodo ya existe, no se inserta 30\n",
            "el nodo ya existe, no se inserta 60\n",
            "50,60,89,\n",
            " Recorrido en pre orden\n",
            "1,35,30,55,89,60,50,\n",
            " Recorrido en pos orden\n",
            "50,30,1,35,60,55,89,\n",
            " Recorrido en pre orden\n"
          ],
          "name": "stdout"
        },
        {
          "output_type": "error",
          "ename": "AttributeError",
          "evalue": "ignored",
          "traceback": [
            "\u001b[0;31m---------------------------------------------------------------------------\u001b[0m",
            "\u001b[0;31mAttributeError\u001b[0m                            Traceback (most recent call last)",
            "\u001b[0;32m<ipython-input-29-5aa9fd0fe6e0>\u001b[0m in \u001b[0;36m<module>\u001b[0;34m()\u001b[0m\n\u001b[1;32m     15\u001b[0m \u001b[0madd\u001b[0m\u001b[0;34m.\u001b[0m\u001b[0mtransversal\u001b[0m\u001b[0;34m(\u001b[0m\u001b[0;34m\"pos\"\u001b[0m\u001b[0;34m)\u001b[0m\u001b[0;34m\u001b[0m\u001b[0;34m\u001b[0m\u001b[0m\n\u001b[1;32m     16\u001b[0m \u001b[0madd\u001b[0m\u001b[0;34m.\u001b[0m\u001b[0mtransversal\u001b[0m\u001b[0;34m(\u001b[0m\u001b[0;34m\"pre\"\u001b[0m\u001b[0;34m)\u001b[0m\u001b[0;34m\u001b[0m\u001b[0;34m\u001b[0m\u001b[0m\n\u001b[0;32m---> 17\u001b[0;31m \u001b[0madd\u001b[0m\u001b[0;34m.\u001b[0m\u001b[0mremove\u001b[0m\u001b[0;34m(\u001b[0m\u001b[0;36m55\u001b[0m\u001b[0;34m)\u001b[0m\u001b[0;34m\u001b[0m\u001b[0;34m\u001b[0m\u001b[0m\n\u001b[0m\u001b[1;32m     18\u001b[0m \u001b[0;34m\u001b[0m\u001b[0m\n",
            "\u001b[0;32m<ipython-input-28-31fda980efd1>\u001b[0m in \u001b[0;36mremove\u001b[0;34m(self, value)\u001b[0m\n\u001b[1;32m     85\u001b[0m             \u001b[0;31m#El que se desea eliminar es raiz\u001b[0m\u001b[0;34m\u001b[0m\u001b[0;34m\u001b[0m\u001b[0;34m\u001b[0m\u001b[0m\n\u001b[1;32m     86\u001b[0m         \u001b[0;32melse\u001b[0m\u001b[0;34m:\u001b[0m\u001b[0;34m\u001b[0m\u001b[0;34m\u001b[0m\u001b[0m\n\u001b[0;32m---> 87\u001b[0;31m             \u001b[0mself\u001b[0m\u001b[0;34m.\u001b[0m\u001b[0m__remove\u001b[0m\u001b[0;34m(\u001b[0m\u001b[0;32mNone\u001b[0m\u001b[0;34m,\u001b[0m \u001b[0;32mNone\u001b[0m\u001b[0;34m,\u001b[0m \u001b[0mself\u001b[0m\u001b[0;34m.\u001b[0m\u001b[0m__root\u001b[0m\u001b[0;34m,\u001b[0m \u001b[0mvalue\u001b[0m\u001b[0;34m)\u001b[0m\u001b[0;34m\u001b[0m\u001b[0;34m\u001b[0m\u001b[0m\n\u001b[0m\u001b[1;32m     88\u001b[0m \u001b[0;34m\u001b[0m\u001b[0m\n\u001b[1;32m     89\u001b[0m     \u001b[0;32mdef\u001b[0m  \u001b[0m__remove\u001b[0m\u001b[0;34m(\u001b[0m \u001b[0mself\u001b[0m\u001b[0;34m,\u001b[0m \u001b[0mpadre_hi\u001b[0m\u001b[0;34m,\u001b[0m \u001b[0mpadre_hd\u001b[0m\u001b[0;34m,\u001b[0m \u001b[0mactual\u001b[0m\u001b[0;34m,\u001b[0m \u001b[0mvalue\u001b[0m\u001b[0;34m)\u001b[0m\u001b[0;34m:\u001b[0m\u001b[0;34m\u001b[0m\u001b[0;34m\u001b[0m\u001b[0m\n",
            "\u001b[0;32m<ipython-input-28-31fda980efd1>\u001b[0m in \u001b[0;36m__remove\u001b[0;34m(self, padre_hi, padre_hd, actual, value)\u001b[0m\n\u001b[1;32m    116\u001b[0m \u001b[0;34m\u001b[0m\u001b[0m\n\u001b[1;32m    117\u001b[0m \u001b[0;34m\u001b[0m\u001b[0m\n\u001b[0;32m--> 118\u001b[0;31m         \u001b[0;32melif\u001b[0m \u001b[0mactual\u001b[0m\u001b[0;34m.\u001b[0m\u001b[0mdata\u001b[0m \u001b[0;34m<\u001b[0m \u001b[0mvalue\u001b[0m\u001b[0;34m.\u001b[0m\u001b[0mdata\u001b[0m\u001b[0;34m:\u001b[0m\u001b[0;34m\u001b[0m\u001b[0;34m\u001b[0m\u001b[0m\n\u001b[0m\u001b[1;32m    119\u001b[0m             \u001b[0mself\u001b[0m\u001b[0;34m.\u001b[0m\u001b[0m__remove\u001b[0m\u001b[0;34m(\u001b[0m\u001b[0mactual\u001b[0m\u001b[0;34m,\u001b[0m \u001b[0;32mNone\u001b[0m\u001b[0;34m,\u001b[0m \u001b[0mactual\u001b[0m\u001b[0;34m.\u001b[0m\u001b[0mleft\u001b[0m\u001b[0;34m)\u001b[0m\u001b[0;34m\u001b[0m\u001b[0;34m\u001b[0m\u001b[0m\n\u001b[1;32m    120\u001b[0m         \u001b[0;32melse\u001b[0m\u001b[0;34m:\u001b[0m\u001b[0;34m\u001b[0m\u001b[0;34m\u001b[0m\u001b[0m\n",
            "\u001b[0;31mAttributeError\u001b[0m: 'int' object has no attribute 'data'"
          ]
        }
      ]
    }
  ]
}