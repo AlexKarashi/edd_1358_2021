{
  "nbformat": 4,
  "nbformat_minor": 0,
  "metadata": {
    "colab": {
      "name": "12Octubre2020.ipynb",
      "provenance": [],
      "authorship_tag": "ABX9TyOtOODcwySasMX1HUiaR/a2",
      "include_colab_link": true
    },
    "kernelspec": {
      "name": "python3",
      "display_name": "Python 3"
    }
  },
  "cells": [
    {
      "cell_type": "markdown",
      "metadata": {
        "id": "view-in-github",
        "colab_type": "text"
      },
      "source": [
        "<a href=\"https://colab.research.google.com/github/AlexKarashi/edd_1358_2021/blob/master/12Octubre2020.ipynb\" target=\"_parent\"><img src=\"https://colab.research.google.com/assets/colab-badge.svg\" alt=\"Open In Colab\"/></a>"
      ]
    },
    {
      "cell_type": "code",
      "metadata": {
        "id": "OSFRnJ1CzxyE",
        "outputId": "1a691d19-8fc9-4e43-aa70-01fac95da1f8",
        "colab": {
          "base_uri": "https://localhost:8080/",
          "height": 92
        }
      },
      "source": [
        "#diccionario(continuacion)\n",
        "cliente_banco= {\n",
        "    \"ID\" :1 ,\n",
        "    \"Nombre\":[\"Juan\", \"Antonio\"],\n",
        "    \"Paterno\": \"Garcia\", \n",
        "    \"Materno\" : \"Perez\",\n",
        "    \"Telefonos\": {\n",
        "      \"Casa\" : 5512348765,\n",
        "      \"Celular\" : 55287654321,\n",
        "      \"Trabajo\" : 5512345678 , \n",
        "    },\n",
        "    \"Activo\" : True,\n",
        "    \"Balance\": 234567.89,\n",
        "    \"Tarjetas\" : ({\"Tipo\":\"Debito\", \"Saldo\" : 120000.00},\n",
        "                  {\"Tipo\":\"Credito\", \"Saldo\" : 3500.00},\n",
        "                  {\"Tipo\":\"Credito\", \"Nivel\": \"oro\", \"Saldo\" : 3500.00})\n",
        "    #lista o tupla, tupla en caso de no ser necesario el editar\n",
        "}\n",
        "print(cliente_banco)\n",
        "#cliente_banco[\"Balance\"]= cliente_banco[\"Balance\"] -1000.0 / esta es una opcion, mas sencillo es \n",
        "cliente_banco[\"Balance\"] -= 10000.0\n",
        "print(cliente_banco)\n",
        "cliente_banco[\"Direccion\"]={\"calle\": \"rancho seco\", \"num \": 25}\n",
        "cliente_banco.pop(\"Tarjetas\")\n",
        "print(cliente_banco)"
      ],
      "execution_count": 12,
      "outputs": [
        {
          "output_type": "stream",
          "text": [
            "{'ID': 1, 'Nombre': ['Juan', 'Antonio'], 'Paterno': 'Garcia', 'Materno': 'Perez', 'Telefonos': {'Casa': 5512348765, 'Celular': 55287654321, 'Trabajo': 5512345678}, 'Activo': True, 'Balance': 234567.89, 'Tarjetas': ({'Tipo': 'Debito', 'Saldo': 120000.0}, {'Tipo': 'Credito', 'Saldo': 3500.0}, {'Tipo': 'Credito', 'Nivel': 'oro', 'Saldo': 3500.0})}\n",
            "{'ID': 1, 'Nombre': ['Juan', 'Antonio'], 'Paterno': 'Garcia', 'Materno': 'Perez', 'Telefonos': {'Casa': 5512348765, 'Celular': 55287654321, 'Trabajo': 5512345678}, 'Activo': True, 'Balance': 224567.89, 'Tarjetas': ({'Tipo': 'Debito', 'Saldo': 120000.0}, {'Tipo': 'Credito', 'Saldo': 3500.0}, {'Tipo': 'Credito', 'Nivel': 'oro', 'Saldo': 3500.0})}\n",
            "{'ID': 1, 'Nombre': ['Juan', 'Antonio'], 'Paterno': 'Garcia', 'Materno': 'Perez', 'Telefonos': {'Casa': 5512348765, 'Celular': 55287654321, 'Trabajo': 5512345678}, 'Activo': True, 'Balance': 224567.89, 'Direccion': {'calle': 'rancho seco', 'num ': 25}}\n"
          ],
          "name": "stdout"
        }
      ]
    },
    {
      "cell_type": "code",
      "metadata": {
        "id": "UxPxa4_HXjLt"
      },
      "source": [
        "Llaves= cliente_banco.keys()\n",
        "print(Llaves)\n",
        "print(type(Llaves))\n",
        "for x in Llaves:\n",
        "  print(x)\n",
        "  \n",
        "valores= cliente_banco.values()\n",
        "for v in valores:\n",
        "  print(v)\n",
        "pares= cliente_banco.items()\n",
        "print(pares)\n",
        "for elem in pares:\n",
        "    print(f\" {elem[0]} = {elem[1]} \")\n"
      ],
      "execution_count": null,
      "outputs": []
    },
    {
      "cell_type": "code",
      "metadata": {
        "id": "WBGapqAShAJQ",
        "outputId": "86f9c7be-4cb8-496d-971c-4f9740c50e48",
        "colab": {
          "base_uri": "https://localhost:8080/",
          "height": 35
        }
      },
      "source": [
        "fruta ={\"nomre\": \"manzana\",  \"color\" : \"rojo\",  \"estado\" : \"chihuahua\"}\n",
        "otras_caract= {\"vitamina\" :\" D\"}\n",
        "fruta.update(otras_caract)\n",
        "# se agregan los datos de la segunda lista en la primera\n",
        "print(fruta)"
      ],
      "execution_count": 25,
      "outputs": [
        {
          "output_type": "stream",
          "text": [
            "{'nomre': 'manzana', 'color': 'rojo', 'estado': 'chihuahua', 'vitamina': ' D'}\n"
          ],
          "name": "stdout"
        }
      ]
    },
    {
      "cell_type": "markdown",
      "metadata": {
        "id": "gGE8q8cXiagP"
      },
      "source": [
        "# FUNCIONES\n",
        "- recibe de 0 a n argumentos de entrada \n",
        "- regresa solo un valor aunque ese valor sea nulo(None en pyhton)\n",
        "- tiene un nombre unico en el contexto\n",
        "- se pueden hacer dos cosas con funciones :\n",
        "  - definirla\n",
        "  - llamarla\n",
        "  "
      ]
    },
    {
      "cell_type": "code",
      "metadata": {
        "id": "9AToKRWyi7FD",
        "outputId": "f30676f5-bc40-4224-f0b8-6e31255a40c8",
        "colab": {
          "base_uri": "https://localhost:8080/",
          "height": 54
        }
      },
      "source": [
        "def suma(a,b):\n",
        "    return a+b\n",
        "def saludar():\n",
        "    print(\"hola, ¿como estas?\")\n",
        "    return None\n",
        "\n",
        "x = 10\n",
        "y = 20\n",
        "c = suma(x,y)\n",
        "print(c)\n",
        "saludar()\n",
        "\n"
      ],
      "execution_count": 33,
      "outputs": [
        {
          "output_type": "stream",
          "text": [
            "30\n",
            "hola, ¿como estas?\n"
          ],
          "name": "stdout"
        }
      ]
    },
    {
      "cell_type": "markdown",
      "metadata": {
        "id": "w_CU2_z4ktSs"
      },
      "source": [
        "# None y las funciones \n",
        "Aprovechar el uso de none en paso de parametros \n"
      ]
    },
    {
      "cell_type": "code",
      "metadata": {
        "id": "PEo5lw6DlDWH",
        "outputId": "f0587b2e-d625-4e26-9fdd-035cfe66c233",
        "colab": {
          "base_uri": "https://localhost:8080/",
          "height": 54
        }
      },
      "source": [
        "def calcular(base, veces):\n",
        "    if base != None:\n",
        "        resultado = base * veces\n",
        "    else:\n",
        "        resultado= \"desconocido\" \n",
        "    return resultado\n",
        "print(calcular(4,3))\n",
        "print(calcular(None,3))"
      ],
      "execution_count": 38,
      "outputs": [
        {
          "output_type": "stream",
          "text": [
            "12\n",
            "desconocido\n"
          ],
          "name": "stdout"
        }
      ]
    }
  ]
}