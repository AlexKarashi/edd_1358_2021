{
  "nbformat": 4,
  "nbformat_minor": 0,
  "metadata": {
    "colab": {
      "name": "22enero2021.ipynb",
      "provenance": [],
      "authorship_tag": "ABX9TyMmMlmSnU/tZfq02f+JaIhe",
      "include_colab_link": true
    },
    "kernelspec": {
      "name": "python3",
      "display_name": "Python 3"
    }
  },
  "cells": [
    {
      "cell_type": "markdown",
      "metadata": {
        "id": "view-in-github",
        "colab_type": "text"
      },
      "source": [
        "<a href=\"https://colab.research.google.com/github/AlexKarashi/edd_1358_2021/blob/master/22enero2021.ipynb\" target=\"_parent\"><img src=\"https://colab.research.google.com/assets/colab-badge.svg\" alt=\"Open In Colab\"/></a>"
      ]
    },
    {
      "cell_type": "code",
      "metadata": {
        "id": "gnWKDS8O2ZSN"
      },
      "source": [
        "class Nodoarbol:\r\n",
        "    def __init__( self, value, left = None, right = None):\r\n",
        "        self.data = value\r\n",
        "        self.left = left\r\n",
        "        self.right = right\r\n",
        "    "
      ],
      "execution_count": 21,
      "outputs": []
    },
    {
      "cell_type": "code",
      "metadata": {
        "id": "zP6ZTxVCS1bS"
      },
      "source": [
        "class ArbolBinarioBusq:\r\n",
        "    def __init__ (self):\r\n",
        "        self.__root = None\r\n",
        "\r\n",
        "    def insert(self, value ):\r\n",
        "        if self.__root == None:\r\n",
        "            self.__root = Nodoarbol(value)\r\n",
        "        else:\r\n",
        "            self.__insert__(  self.__root, value)\r\n",
        "\r\n",
        "    def __insert__(self, nodo, value): # los __ significa que esta encapsulado, y este va a ser usado para la recursividad\r\n",
        "        if nodo.data == value:\r\n",
        "            print(\"el nodo ya existe, no se inserta\", value)\r\n",
        "        elif value < nodo.data:\r\n",
        "            # ir izquierda\r\n",
        "            if nodo.left == None:\r\n",
        "                nodo.left = Nodoarbol( value,  None, None )\r\n",
        "            else:\r\n",
        "                self.__insert__( nodo.left, value,)\r\n",
        "        else:\r\n",
        "            #ir a la derecha\r\n",
        "            if nodo.right == None:\r\n",
        "                nodo.right = Nodoarbol( value, None, None )\r\n",
        "            else:\r\n",
        "                self.__insert__( nodo.right, value)\r\n",
        "    \r\n",
        "    def transversal( self , format = \"in\"): #in, pos, re (formato con el cual va a estar el arbol)\r\n",
        "        if format == \"in\":\r\n",
        "            self.__recorrido_in(self.__root)\r\n",
        "            print(\"\\n Recorrido en pre orden\")\r\n",
        "        elif format == \"pre\":\r\n",
        "            self.__recorrido_pre(self.__root)\r\n",
        "            print(\"\\n Recorrido en pre orden\")\r\n",
        "        elif format == \"pos\":\r\n",
        "            self.__recorrido_pos(self.__root)\r\n",
        "            print(\"\\n Recorrido en pos orden\")\r\n",
        "        else:\r\n",
        "            print(\"\\n recorrido no valido\")\r\n",
        "\r\n",
        "    def __recorrido_in(self, nodo):\r\n",
        "        if nodo == None:\r\n",
        "            #print(\"Caso base\")\r\n",
        "            pass\r\n",
        "        else:\r\n",
        "            self:__recorrido_in(nodo.left)\r\n",
        "            print(nodo.data, end=\",\")\r\n",
        "            self.__recorrido_in(nodo.right)\r\n",
        "\r\n",
        "    def __recorrido_pos( self , nodo ):\r\n",
        "        if nodo == None:\r\n",
        "            pass\r\n",
        "        else:\r\n",
        "            self.__recorrido_pos( nodo.left )\r\n",
        "            self.__recorrido_pos( nodo.right )  \r\n",
        "            print(nodo.data , end=\",\")  \r\n",
        "\r\n",
        "    def __recorrido_pre( self , nodo ):\r\n",
        "        if nodo == None:\r\n",
        "            pass\r\n",
        "        else:\r\n",
        "            print(nodo.data , end=\",\")\r\n",
        "            self.__recorrido_pre( nodo.left )\r\n",
        "            self.__recorrido_pre( nodo.right )\r\n",
        "\r\n",
        "    def search(self, value) :\r\n",
        "        if self.__root == None:\r\n",
        "            print(\"Arbol vacio\")\r\n",
        "        else:\r\n",
        "            return self.__search( self.__root, value)\r\n",
        "    def __search( self, nodo, value):\r\n",
        "        if nodo == None:\r\n",
        "            return None\r\n",
        "        elif nodo.data == value:\r\n",
        "            return nodo\r\n",
        "        elif value < nodo.data:\r\n",
        "            print(\"ir a la izquierda\")\r\n",
        "            return self.__search (nodo.left, value)\r\n",
        "        else:\r\n",
        "            print(\" ir a la derecha\")\r\n",
        "            return self.__search (nodo.right, value)"
      ],
      "execution_count": 31,
      "outputs": []
    },
    {
      "cell_type": "code",
      "metadata": {
        "colab": {
          "base_uri": "https://localhost:8080/"
        },
        "id": "Ds7TL-3ndH-v",
        "outputId": "49060956-bfc6-427f-e843-c7cdbd7e01d7"
      },
      "source": [
        "add= ArbolBinarioBusq()\r\n",
        "add.insert(50)\r\n",
        "add.insert(30)\r\n",
        "add.insert(60)\r\n",
        "add.insert(35)\r\n",
        "add.insert(89)\r\n",
        "add.insert(70)\r\n",
        "add.insert(1)\r\n",
        "\r\n",
        "add.transversal(\"in\")\r\n",
        "add.transversal(\"pos\")\r\n",
        "add.transversal(\"pre\")\r\n",
        "\r\n",
        "res = add.search(70)\r\n",
        "print(f\"el nodo es: {res.data}, hijo izq {res.left}, hijo der { res.right}\")\r\n",
        "res = add.search(30)\r\n",
        "print(f\"el nodo es: {res.data}, hijo izq {res.left}, hijo der { res.right}\")\r\n",
        "res = add.search(89)\r\n",
        "print(f\"el nodo es: {res.data}, hijo izq {res.left}, hijo der { res.right}\")"
      ],
      "execution_count": 32,
      "outputs": [
        {
          "output_type": "stream",
          "text": [
            "50,60,89,\n",
            " Recorrido en pre orden\n",
            "1,35,30,70,89,60,50,\n",
            " Recorrido en pos orden\n",
            "50,30,1,35,60,89,70,\n",
            " Recorrido en pre orden\n",
            " ir a la derecha\n",
            " ir a la derecha\n",
            "ir a la izquierda\n",
            "el nodo es: 70, hijo izq None, hijo der None\n",
            "ir a la izquierda\n",
            "el nodo es: 30, hijo izq <__main__.Nodoarbol object at 0x7fba2f2f7ef0>, hijo der <__main__.Nodoarbol object at 0x7fba2f2b1780>\n",
            " ir a la derecha\n",
            " ir a la derecha\n",
            "el nodo es: 89, hijo izq <__main__.Nodoarbol object at 0x7fba2f2f7128>, hijo der None\n"
          ],
          "name": "stdout"
        }
      ]
    }
  ]
}