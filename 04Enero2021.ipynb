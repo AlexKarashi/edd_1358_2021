{
  "nbformat": 4,
  "nbformat_minor": 0,
  "metadata": {
    "colab": {
      "name": "04Enero2021.ipynb",
      "provenance": [],
      "authorship_tag": "ABX9TyNa2sJSE096sStKidlWIyzb",
      "include_colab_link": true
    },
    "kernelspec": {
      "name": "python3",
      "display_name": "Python 3"
    }
  },
  "cells": [
    {
      "cell_type": "markdown",
      "metadata": {
        "id": "view-in-github",
        "colab_type": "text"
      },
      "source": [
        "<a href=\"https://colab.research.google.com/github/AlexKarashi/edd_1358_2021/blob/master/04Enero2021.ipynb\" target=\"_parent\"><img src=\"https://colab.research.google.com/assets/colab-badge.svg\" alt=\"Open In Colab\"/></a>"
      ]
    },
    {
      "cell_type": "code",
      "metadata": {
        "id": "zT04OF53L1Ry"
      },
      "source": [
        "#adt array puede ser un limitante por el numero deespacios que esta delimitado desde el principio\r\n",
        "# En este caso sera con listas python\r\n",
        "class Queue:\r\n",
        "    def __init__( self ):\r\n",
        "        self.__data = list()\r\n",
        "\r\n",
        "    def is_empty(self):\r\n",
        "        return len(self.__data) == 0\r\n",
        "    \r\n",
        "    def lenght(self):\r\n",
        "        return len(self.__data)\r\n",
        "    \r\n",
        "    def enqueue(self, item):\r\n",
        "        self.__data.append(item)\r\n",
        "    \r\n",
        "    def dequeue( self ):\r\n",
        "        if not self.is_empty():\r\n",
        "            return self.__data.pop(0)\r\n",
        "        else:\r\n",
        "            return None\r\n",
        "    def to_string(self):\r\n",
        "        for elem in self.__data:\r\n",
        "            print(f\"|{elem}\", end=\"\")\r\n",
        "        print(\"\")"
      ],
      "execution_count": 39,
      "outputs": []
    },
    {
      "cell_type": "code",
      "metadata": {
        "colab": {
          "base_uri": "https://localhost:8080/"
        },
        "id": "o58U-sElRxgd",
        "outputId": "c5fca7fe-5853-47c5-ce95-3ebade406f9a"
      },
      "source": [
        "#meter elemento\r\n",
        "cola = Queue()\r\n",
        "cola.enqueue(10)\r\n",
        "cola.enqueue(2)\r\n",
        "cola.enqueue(20)\r\n",
        "cola.enqueue(110)\r\n",
        "cola.enqueue(33)\r\n",
        "cola.to_string()\r\n",
        "cola.enqueue( 44)\r\n",
        "cola.to_string()\r\n",
        "#sacar elemento\r\n",
        "\r\n",
        "elem = cola.dequeue()\r\n",
        "print( f\"El elemento es {elem}\")\r\n",
        "cola.to_string()\r\n",
        "\r\n",
        "elem = cola.dequeue()\r\n",
        "print( f\"El elemento es {elem}\")\r\n",
        "cola.to_string()"
      ],
      "execution_count": 41,
      "outputs": [
        {
          "output_type": "stream",
          "text": [
            "|10|2|20|110|33\n",
            "|10|2|20|110|33|44\n",
            "El elemento es 10\n",
            "|2|20|110|33|44\n",
            "El elemento es 2\n",
            "|20|110|33|44\n"
          ],
          "name": "stdout"
        }
      ]
    },
    {
      "cell_type": "code",
      "metadata": {
        "colab": {
          "base_uri": "https://localhost:8080/"
        },
        "id": "8DodsQ9MUxeT",
        "outputId": "cf601090-f843-4331-9ded-e816d5ac2e6e"
      },
      "source": [
        "c1 = { \"id\" : 1 , \"nombre\":\"Jose\" , \"balance\":2345654.99}\r\n",
        "c2 = { \"id\" : 2 , \"nombre\":\"Maria\" , \"balance\":2323.01}\r\n",
        "c3 = { \"id\" : 3 , \"nombre\":\"Jesus\" , \"balance\":333.55}\r\n",
        "\r\n",
        "queue = Queue()\r\n",
        "queue.enqueue( c1 )\r\n",
        "queue.enqueue( c2 )\r\n",
        "queue.enqueue( c3 )\r\n",
        "queue.to_string()\r\n",
        "a_atendender= queue.dequeue()\r\n",
        "print(f\"Hola sr {a_atendender['nombre']}, que tramite se le ofrece\")"
      ],
      "execution_count": 46,
      "outputs": [
        {
          "output_type": "stream",
          "text": [
            "|{'id': 1, 'nombre': 'Jose', 'balance': 2345654.99}|{'id': 2, 'nombre': 'Maria', 'balance': 2323.01}|{'id': 3, 'nombre': 'Jesus', 'balance': 333.55}\n",
            "Hola sr Jose, que tramite se le ofrece\n"
          ],
          "name": "stdout"
        }
      ]
    }
  ]
}