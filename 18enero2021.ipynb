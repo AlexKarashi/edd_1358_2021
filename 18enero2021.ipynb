{
  "nbformat": 4,
  "nbformat_minor": 0,
  "metadata": {
    "colab": {
      "name": "18enero2021.ipynb",
      "provenance": [],
      "authorship_tag": "ABX9TyPhSmU3eFzpz07Znw/sOTwt",
      "include_colab_link": true
    },
    "kernelspec": {
      "name": "python3",
      "display_name": "Python 3"
    }
  },
  "cells": [
    {
      "cell_type": "markdown",
      "metadata": {
        "id": "view-in-github",
        "colab_type": "text"
      },
      "source": [
        "<a href=\"https://colab.research.google.com/github/AlexKarashi/edd_1358_2021/blob/master/18enero2021.ipynb\" target=\"_parent\"><img src=\"https://colab.research.google.com/assets/colab-badge.svg\" alt=\"Open In Colab\"/></a>"
      ]
    },
    {
      "cell_type": "code",
      "metadata": {
        "id": "gnWKDS8O2ZSN"
      },
      "source": [
        "class Nodoarbol:\r\n",
        "    def __init__( self, value, left = None, right = None):\r\n",
        "        self.data = value\r\n",
        "        self.left = left\r\n",
        "        self.right = right\r\n",
        "    "
      ],
      "execution_count": 10,
      "outputs": []
    },
    {
      "cell_type": "code",
      "metadata": {
        "id": "zP6ZTxVCS1bS"
      },
      "source": [
        "class ArbolBinarioBusq:\r\n",
        "    def __init__ (self):\r\n",
        "        self.__root = None\r\n",
        "\r\n",
        "    def insert(self, value ):\r\n",
        "        if self.__root == None:\r\n",
        "            self.__root = Nodoarbol(value)\r\n",
        "        else:\r\n",
        "            self.__insert__(  self.__root, value)\r\n",
        "\r\n",
        "    def __insert__(self, nodo, value): # los __ significa que esta encapsulado, y este va a ser usado para la recursividad\r\n",
        "        if nodo.data == value:\r\n",
        "            print(\"el nodo ya existe, no se inserta\", value)\r\n",
        "        elif value < nodo.data:\r\n",
        "            # ir izquierda\r\n",
        "            if nodo.left == None:\r\n",
        "                nodo.left = Nodoarbol( value,  None )\r\n",
        "            else:\r\n",
        "                self.__insert__( nodo.left, value,)\r\n",
        "        else:\r\n",
        "            #ir a la derecha\r\n",
        "\r\n",
        "            if nodo.right == None:\r\n",
        "                nodo.right = Nodoarbol( value, None )\r\n",
        "            else:\r\n",
        "                self.__insert__( nodo.right, value)"
      ],
      "execution_count": 20,
      "outputs": []
    },
    {
      "cell_type": "code",
      "metadata": {
        "colab": {
          "base_uri": "https://localhost:8080/"
        },
        "id": "Ds7TL-3ndH-v",
        "outputId": "65a4d7fc-891c-47fe-9a60-af227ff13dca"
      },
      "source": [
        "add= ArbolBinarioBusq()\r\n",
        "add.insert(40)\r\n",
        "add.insert(30)\r\n",
        "add.insert(30)"
      ],
      "execution_count": 27,
      "outputs": [
        {
          "output_type": "stream",
          "text": [
            "el nodo ya existe, no se inserta 30\n"
          ],
          "name": "stdout"
        }
      ]
    }
  ]
}