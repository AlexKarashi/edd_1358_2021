{
  "nbformat": 4,
  "nbformat_minor": 0,
  "metadata": {
    "colab": {
      "name": "27Nov2020tarea.ipynb",
      "provenance": [],
      "authorship_tag": "ABX9TyP3yupicZuLf6zQQnYfruvk",
      "include_colab_link": true
    },
    "kernelspec": {
      "name": "python3",
      "display_name": "Python 3"
    }
  },
  "cells": [
    {
      "cell_type": "markdown",
      "metadata": {
        "id": "view-in-github",
        "colab_type": "text"
      },
      "source": [
        "<a href=\"https://colab.research.google.com/github/AlexKarashi/edd_1358_2021/blob/master/27Nov2020tarea.ipynb\" target=\"_parent\"><img src=\"https://colab.research.google.com/assets/colab-badge.svg\" alt=\"Open In Colab\"/></a>"
      ]
    },
    {
      "cell_type": "code",
      "metadata": {
        "id": "DuwQm4VRfEeF"
      },
      "source": [
        "class Nodo:\n",
        "    def __init__(self, valor, siguiente = None ):\n",
        "        self.value = valor\n",
        "        self.next = siguiente\n",
        "\n",
        "class circular_list:\n",
        "    def __init__(self):\n",
        "        self.__ref = None\n",
        "        self.__size = 0\n",
        "    \n",
        "    def is_empty(self):\n",
        "        return self.__size == 0\n",
        "\n",
        "    def insert_value(self, valor):\n",
        "        curr_node = self.__ref\n",
        "        nuevo = Nodo (valor)\n",
        "        if self.is_empty():\n",
        "            nuevo = self.__ref\n",
        "        else:\n",
        "            if nuevo > curr_node:\n",
        "                nuevo = self.__ref\n",
        "                nuevo.next = curr_node\n",
        "            else:\n",
        "                nuevo < curr_node\n",
        "                curr_node = curr_node.next\n",
        "            size += 1\n",
        "            \n",
        "\n",
        "    def transversal(self):\n",
        "        curr_node = self.__ref\n",
        "        while curr_node != None:\n",
        "            print(curr_node.valor, \"-->\")\n",
        "            curr_node.next\n",
        "        print(\"\")\n",
        "        \n",
        "    def search(self, valor):\n",
        "        curr_node = self.__ref\n",
        "        while curr_node == Nodo(valor):\n",
        "            curr_node.next\n",
        "    \n",
        "    def remove(self):\n",
        "        curr_node = self.__ref\n",
        "        if nodo(valor) == curr_node:\n",
        "            curr_node = curr_node.next\n",
        "        else:\n",
        "            nodo(valor) != curr_node\n",
        "            curr_node.next\n"
      ],
      "execution_count": 28,
      "outputs": []
    },
    {
      "cell_type": "code",
      "metadata": {
        "colab": {
          "base_uri": "https://localhost:8080/"
        },
        "id": "W8O-Pv-5zsLx",
        "outputId": "a02cb2dd-d029-4e54-a1c2-f081a9607010"
      },
      "source": [
        "cl = circular_list()\n",
        "cl.is_empty()\n",
        "cl.transversal()\n",
        "cl.insert_value(10)\n",
        "cl.insert_value(20)\n",
        "cl.insert_value(30)\n",
        "cl.transversal()"
      ],
      "execution_count": 31,
      "outputs": [
        {
          "output_type": "stream",
          "text": [
            "\n",
            "\n"
          ],
          "name": "stdout"
        }
      ]
    }
  ]
}