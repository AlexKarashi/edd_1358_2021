{
  "nbformat": 4,
  "nbformat_minor": 0,
  "metadata": {
    "colab": {
      "name": "Untitled0.ipynb",
      "provenance": [],
      "authorship_tag": "ABX9TyM6+qKIV/CxA3QgCWyYav/Q",
      "include_colab_link": true
    },
    "kernelspec": {
      "name": "python3",
      "display_name": "Python 3"
    }
  },
  "cells": [
    {
      "cell_type": "markdown",
      "metadata": {
        "id": "view-in-github",
        "colab_type": "text"
      },
      "source": [
        "<a href=\"https://colab.research.google.com/github/AlexKarashi/edd_1358_2021/blob/master/11Enero2021.ipynb\" target=\"_parent\"><img src=\"https://colab.research.google.com/assets/colab-badge.svg\" alt=\"Open In Colab\"/></a>"
      ]
    },
    {
      "cell_type": "code",
      "metadata": {
        "id": "YhSN7XR5OizU"
      },
      "source": [
        "class NodoArbol:\r\n",
        "    def __init__( self, dato, hijo_izq= None, hijo_der= None ):\r\n",
        "        self.dato = dato\r\n",
        "        self.hijo_der = hijo_der\r\n",
        "        self.hijo_izq = hijo_izq\r\n",
        "\r\n",
        "    \r\n"
      ],
      "execution_count": 37,
      "outputs": []
    },
    {
      "cell_type": "code",
      "metadata": {
        "colab": {
          "base_uri": "https://localhost:8080/"
        },
        "id": "ycoXkRsgQ9Y-",
        "outputId": "1d4d09ce-2151-4a64-9743-5747fefbc970"
      },
      "source": [
        "arbol= NodoArbol(\"R\")\r\n",
        "arbol.hijo_izq = NodoArbol (\"C\")\r\n",
        "arbol.hijo_der = NodoArbol (\"H\")\r\n",
        "\r\n",
        "#Como imprimir nodo raiz?\r\n",
        "print(arbol.dato)\r\n",
        "\r\n",
        "#Como se imprime el hijo izquierdo y ekl hijo derecho?\r\n",
        "print(arbol.hijo_izq.dato)\r\n",
        "print(arbol.hijo_der.dato)\r\n",
        "#se puede resumir en una sola linea"
      ],
      "execution_count": null,
      "outputs": [
        {
          "output_type": "stream",
          "text": [
            "R\n",
            "C\n",
            "H\n"
          ],
          "name": "stdout"
        }
      ]
    },
    {
      "cell_type": "code",
      "metadata": {
        "colab": {
          "base_uri": "https://localhost:8080/"
        },
        "id": "qnTBhis0SwJ4",
        "outputId": "5b6b5135-a9b7-46e8-f9eb-57fc7fb03953"
      },
      "source": [
        "arbol_v2 = NodoArbol( \"R\" , NodoArbol( \"C\"), NodoArbol (\"H\") )\r\n",
        "\r\n",
        "#se imprime\r\n",
        "print(arbol_v2.dato)\r\n",
        "print(arbol_v2.hijo_izq.dato)\r\n",
        "print(arbol_v2.hijo_der.dato)"
      ],
      "execution_count": null,
      "outputs": [
        {
          "output_type": "stream",
          "text": [
            "R\n",
            "H\n",
            "C\n"
          ],
          "name": "stdout"
        }
      ]
    },
    {
      "cell_type": "code",
      "metadata": {
        "colab": {
          "base_uri": "https://localhost:8080/"
        },
        "id": "7g62fb-UTVCD",
        "outputId": "9cd24337-0dbd-478b-ee6b-1fd9f71792b8"
      },
      "source": [
        "#Ejercicio 2\r\n",
        "arbol2 = NodoArbol (\"4\", NodoArbol(\"3\", NodoArbol(\"2\", NodoArbol(\"2\"))), NodoArbol(\"5\"))\r\n",
        "\r\n",
        "print(arbol2.dato)\r\n",
        "print(arbol2.hijo_der.dato)\r\n",
        "print(arbol2.hijo_izq.dato)\r\n",
        "print(arbol2.hijo_der.hijo_der.hijo_der.dato)\r\n"
      ],
      "execution_count": 36,
      "outputs": [
        {
          "output_type": "stream",
          "text": [
            "4\n",
            "3\n",
            "5\n",
            "2\n"
          ],
          "name": "stdout"
        }
      ]
    },
    {
      "cell_type": "code",
      "metadata": {
        "id": "bNGgVZtMXsNz"
      },
      "source": [
        "#ejercicio 2\r\n",
        "arbol3 = NodoArbol(4,NodoArbol(3,NodoArbol(2,NodoArbol(2))),NodoArbol(5))\r\n",
        "#lo copie del ejemplo del compañero\r\n",
        "print(arbol3.hijo_izq.hijo_izq.hijo_izq.dato)\r\n",
        "aux = arbol3\r\n",
        "aux "
      ],
      "execution_count": null,
      "outputs": []
    },
    {
      "cell_type": "code",
      "metadata": {
        "id": "vZdQTNIKaFpp"
      },
      "source": [
        "#Ejercicio 3 Tarea"
      ],
      "execution_count": null,
      "outputs": []
    },
    {
      "cell_type": "code",
      "metadata": {
        "colab": {
          "base_uri": "https://localhost:8080/"
        },
        "id": "-fu5Dp1pYidq",
        "outputId": "4b43fe24-aa3e-4fdb-dec4-ac960035820f"
      },
      "source": [
        "#Ejercicio 4\r\n",
        "class NodoArbol_v2:\r\n",
        "    def __init__( self, dato, hijo_izq= None, hijo_central = None ,hijo_der= None ):\r\n",
        "        self.dato = dato\r\n",
        "        self.hijo_izq = hijo_izq\r\n",
        "        self.hijo_der = hijo_der\r\n",
        "        self.hijo_central = hijo_central\r\n",
        "\r\n",
        "arbol_3= NodoArbol_v2(\"R\", NodoArbol(\"I\",NodoArbol(\"X\"), None), NodoArbol(\"C\", NodoArbol(\"Y\")), NodoArbol(\"D\" , NodoArbol(\"Z\")))\r\n",
        "print(arbol_3.dato)\r\n",
        "print(arbol_3.hijo_izq.dato)\r\n",
        "print(arbol_3.hijo_izq.hijo_der.dato)\r\n",
        "print(arbol_3.hijo_central.dato)\r\n",
        "print(arbol_3.hijo_central.hijo_der.dato)\r\n",
        "# no me queda claro porque enmpieza por la derecha y no por la izquierda"
      ],
      "execution_count": 57,
      "outputs": [
        {
          "output_type": "stream",
          "text": [
            "R\n",
            "I\n",
            "X\n",
            "C\n",
            "Y\n"
          ],
          "name": "stdout"
        }
      ]
    }
  ]
}