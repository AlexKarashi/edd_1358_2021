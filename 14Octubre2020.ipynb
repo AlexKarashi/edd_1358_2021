{
  "nbformat": 4,
  "nbformat_minor": 0,
  "metadata": {
    "colab": {
      "name": "14Octubre2020.ipynb",
      "provenance": [],
      "authorship_tag": "ABX9TyMQEZ97IOSYd8PHrm2wQzx8",
      "include_colab_link": true
    },
    "kernelspec": {
      "name": "python3",
      "display_name": "Python 3"
    }
  },
  "cells": [
    {
      "cell_type": "markdown",
      "metadata": {
        "id": "view-in-github",
        "colab_type": "text"
      },
      "source": [
        "<a href=\"https://colab.research.google.com/github/AlexKarashi/edd_1358_2021/blob/master/14Octubre2020.ipynb\" target=\"_parent\"><img src=\"https://colab.research.google.com/assets/colab-badge.svg\" alt=\"Open In Colab\"/></a>"
      ]
    },
    {
      "cell_type": "code",
      "metadata": {
        "id": "HWA9ORxvkG1f",
        "outputId": "2e0cf9c5-8238-4bc8-aa41-30032826e163",
        "colab": {
          "base_uri": "https://localhost:8080/",
          "height": 90
        }
      },
      "source": [
        "def calcular (a, b, c ):\n",
        "    x = a + (b / c)\n",
        "    return x\n",
        "print(calcular (5, 9, 3))\n",
        "print(calcular (a=5, c=3, b=9))\n",
        "def calcular_v2(a= 10, b= 20,  c = 5):\n",
        "    x= a+ (b / c)\n",
        "    return x\n",
        "print(calcular_v2())\n",
        "#se pueden dar valores los valores de manera explicita a=(40)\n",
        "#ocuando se pone un numnero remplaza al primero\n",
        "#se usa por posiciones, o de manera explicita, no ambas\n",
        "print(calcular_v2(40))\n",
        "\n",
        "\n"
      ],
      "execution_count": null,
      "outputs": [
        {
          "output_type": "stream",
          "text": [
            "8.0\n",
            "8.0\n",
            "14.0\n",
            "44.0\n"
          ],
          "name": "stdout"
        }
      ]
    },
    {
      "cell_type": "markdown",
      "metadata": {
        "id": "W25NAUI-rs3K"
      },
      "source": [
        "# Argumentos a funciones por tupla *\n",
        "Se envian los argumentos en un conjunto de elementos dentro de una dupla"
      ]
    },
    {
      "cell_type": "code",
      "metadata": {
        "id": "OGxaKFOer5QA",
        "outputId": "f193d895-59d8-4379-d0d7-60b857527961",
        "colab": {
          "base_uri": "https://localhost:8080/",
          "height": 54
        }
      },
      "source": [
        "def calculo( *elem ):\n",
        "    print(elem)\n",
        "    x = elem [0] + ( elem[1] / elem [2])\n",
        "    return x\n",
        "print(calculo(5,9,3))"
      ],
      "execution_count": null,
      "outputs": [
        {
          "output_type": "stream",
          "text": [
            "(5, 9, 3)\n",
            "8.0\n"
          ],
          "name": "stdout"
        }
      ]
    },
    {
      "cell_type": "markdown",
      "metadata": {
        "id": "5yCtgRBlsy4V"
      },
      "source": [
        " \n",
        "# Argumentos como diccionario**"
      ]
    },
    {
      "cell_type": "code",
      "metadata": {
        "id": "tIma9F4xs37c",
        "outputId": "25515f00-f690-452c-a317-e06974079eba",
        "colab": {
          "base_uri": "https://localhost:8080/",
          "height": 54
        }
      },
      "source": [
        "def calculo(**elem):\n",
        "    print(elem)\n",
        "    x = elem['a'] + (elem['b'] / elem['c'])\n",
        "    return x\n",
        "\n",
        "print(calculo(a= 5, b=9 , c= 3))\n"
      ],
      "execution_count": null,
      "outputs": [
        {
          "output_type": "stream",
          "text": [
            "{'a': 5, 'b': 9, 'c': 3}\n",
            "8.0\n"
          ],
          "name": "stdout"
        }
      ]
    },
    {
      "cell_type": "markdown",
      "metadata": {
        "id": "GEAMI6iqtzbi"
      },
      "source": [
        "# Archivos\n",
        "- abrirlos\n",
        "    - un str con la ruta  del archivo\n",
        "    - dos caracteres 1-> modod e aprtura(r,w) y el formato (texto o Binario\n",
        "- leerlos\n",
        "- modificarlos "
      ]
    },
    {
      "cell_type": "code",
      "metadata": {
        "id": "CwqVXMiO3D00"
      },
      "source": [
        "archivo = open('ejemplo.txt', 'wt')\n",
        "archivo.write(\"Hola mundo de archivos\")\n",
        "archivo.close()\n",
        "\n"
      ],
      "execution_count": 23,
      "outputs": []
    },
    {
      "cell_type": "code",
      "metadata": {
        "id": "R4nkrQw04nG7"
      },
      "source": [
        "!(cat ejemplo.txt > otra.txt)"
      ],
      "execution_count": 30,
      "outputs": []
    }
  ]
}