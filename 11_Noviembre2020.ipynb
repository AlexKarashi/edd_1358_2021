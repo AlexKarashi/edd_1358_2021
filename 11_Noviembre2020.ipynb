{
  "nbformat": 4,
  "nbformat_minor": 0,
  "metadata": {
    "colab": {
      "name": "11 Noviembre2020.ipynb",
      "provenance": [],
      "authorship_tag": "ABX9TyPoZe8z4jxrcAHsdQ8hWfOh",
      "include_colab_link": true
    },
    "kernelspec": {
      "name": "python3",
      "display_name": "Python 3"
    }
  },
  "cells": [
    {
      "cell_type": "markdown",
      "metadata": {
        "id": "view-in-github",
        "colab_type": "text"
      },
      "source": [
        "<a href=\"https://colab.research.google.com/github/AlexKarashi/edd_1358_2021/blob/master/11_Noviembre2020.ipynb\" target=\"_parent\"><img src=\"https://colab.research.google.com/assets/colab-badge.svg\" alt=\"Open In Colab\"/></a>"
      ]
    },
    {
      "cell_type": "code",
      "metadata": {
        "id": "63dH6Zo2xYzq",
        "outputId": "1df1d5e9-693e-4d0a-cade-038787a4110a",
        "colab": {
          "base_uri": "https://localhost:8080/"
        }
      },
      "source": [
        "class Nodo:\n",
        "    def __init__( self ,  dato):\n",
        "        self.__dato= dato\n",
        "        self.__siguiente = None\n",
        "\n",
        "    def get_dato( self):\n",
        "        return self.__dato\n",
        "    \n",
        "    def set_dato( self, d):\n",
        "        self.__dato = d\n",
        "    \n",
        "    def get_siguiente ( self ):\n",
        "        return self.__siguiente\n",
        "\n",
        "    def set_siguiente( self, d):\n",
        "        self.__siguiente = d\n",
        "\n",
        "    def show( self ):\n",
        "        curr_node = self # Head\n",
        "        print(\" Inicio de la estructura ligada:\")\n",
        "        print(\"|\" + str(curr_node.get_dato()) + \"| -->\" , end =\"\" )\n",
        "        while( curr_node.get_siguiente() != None ):\n",
        "            curr_node = curr_node.get_siguiente()\n",
        "            print(\"|\" + str(curr_node.get_dato() ) + \"| -->\" , end =\"\" )\n",
        "        print(\"\\nFin\")\n",
        "    #def to_String( self):\n",
        "        #return \"|\"+ str(self.__dato)+ \"|\" + str(self.__siguiente)+  \"| -->\"\n",
        "\n",
        "#ejemplo 1\n",
        "a=Nodo(10)         \n",
        "a.show()\n",
        "\n",
        "#ejemplo 2\n",
        "a.set_siguiente(Nodo(20))\n",
        "a.show()\n",
        "\n",
        "# ejemplo 3\n",
        "a.get_siguiente().set_siguiente(Nodo(30))\n",
        "a.show()\n",
        "\n",
        "# ejemplo 4\n",
        "a.get_siguiente().get_siguiente().set_siguiente(Nodo(35))\n",
        "a.show()\n",
        "\n",
        "# ejemplo 5\n",
        "a.get_siguiente().get_siguiente().get_siguiente().set_siguiente(Nodo(50))\n",
        "a.show()\n",
        "\n",
        "# ejemplo 6 , correción de uno cambio de valor nodo 1\n",
        "a.set_dato(12)\n",
        "a.show()\n",
        "\n",
        "# ejemplo 7\n",
        "a.get_siguiente().get_siguiente().get_siguiente().set_dato(45)\n",
        "a.show()\n",
        "# ejemplo 8\n",
        "a.get_siguiente().get_siguiente().set_dato(35)\n",
        "a.show()\n",
        "# ejemplo 9 eliminacion de un dato, o no tomar en cuenta un dato\n"
      ],
      "execution_count": 33,
      "outputs": [
        {
          "output_type": "stream",
          "text": [
            " Inicio de la estructura ligada:\n",
            "|10| -->\n",
            "Fin\n",
            " Inicio de la estructura ligada:\n",
            "|10| -->|20| -->\n",
            "Fin\n",
            " Inicio de la estructura ligada:\n",
            "|10| -->|20| -->|30| -->\n",
            "Fin\n",
            " Inicio de la estructura ligada:\n",
            "|10| -->|20| -->|30| -->|35| -->\n",
            "Fin\n",
            " Inicio de la estructura ligada:\n",
            "|10| -->|20| -->|30| -->|35| -->|50| -->\n",
            "Fin\n",
            " Inicio de la estructura ligada:\n",
            "|12| -->|20| -->|30| -->|35| -->|50| -->\n",
            "Fin\n",
            " Inicio de la estructura ligada:\n",
            "|12| -->|20| -->|30| -->|45| -->|50| -->\n",
            "Fin\n",
            " Inicio de la estructura ligada:\n",
            "|12| -->|20| -->|35| -->|45| -->|50| -->\n",
            "Fin\n"
          ],
          "name": "stdout"
        }
      ]
    }
  ]
}