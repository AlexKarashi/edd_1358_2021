{
  "nbformat": 4,
  "nbformat_minor": 0,
  "metadata": {
    "colab": {
      "name": "11 Noviembre2020(2).ipynb",
      "provenance": [],
      "authorship_tag": "ABX9TyMsluw9Y7VhwGfrevOgf8ML",
      "include_colab_link": true
    },
    "kernelspec": {
      "name": "python3",
      "display_name": "Python 3"
    }
  },
  "cells": [
    {
      "cell_type": "markdown",
      "metadata": {
        "id": "view-in-github",
        "colab_type": "text"
      },
      "source": [
        "<a href=\"https://colab.research.google.com/github/AlexKarashi/edd_1358_2021/blob/master/11_Noviembre2020(2).ipynb\" target=\"_parent\"><img src=\"https://colab.research.google.com/assets/colab-badge.svg\" alt=\"Open In Colab\"/></a>"
      ]
    },
    {
      "cell_type": "code",
      "metadata": {
        "id": "KheQ3VOuN-oS",
        "colab": {
          "base_uri": "https://localhost:8080/"
        },
        "outputId": "29b082dc-7665-40e8-b4f8-2136720e506f"
      },
      "source": [
        "class Nodo:\n",
        "    def __init__( self ,  dato):\n",
        "        self.dato= dato\n",
        "        self.siguiente = None\n",
        "    \n",
        "#Ejemplo quitar datos de un nodo\n",
        "a=  Nodo(10)\n",
        "print(a.dato)\n",
        "print(a.siguiente)\n",
        "\n",
        "# ejemplo 2\n",
        "a.siguiente = Nodo(20)\n",
        "\n",
        "#Ejemplo 3\n",
        "a.siguiente.siguiente = Nodo(30)\n",
        "\n",
        "#ejemplo 4\n",
        "a.siguiente.siguiente.siguiente = Nodo(40)\n",
        "\n",
        "#Ejemplo 5\n",
        "a.siguiente.siguiente.siguiente.siguiente = Nodo(50)\n",
        "\n",
        "\n",
        "\n",
        "#REcorido transversal\n",
        "curr_node = a\n",
        "print(curr_node.dato , \"|-->\",end  =\"\")\n",
        "while (curr_node.siguiente != None):\n",
        "    curr_node =curr_node.siguiente\n",
        "    print(curr_node.dato,\"|-->\", end=\"\")\n",
        "print(\"\")\n",
        "\n",
        "\n",
        "\n",
        "#Ejemplo 6 para ecambiar el valor de un nodo \n",
        "a.siguiente.siguiente.siguiente.dato =45\n",
        "\n",
        "\n",
        "#Ejemplo 7\n",
        "a.siguiente.siguiente.dato= 35\n",
        "\n",
        "#Sirven para eliminar nodos de la estructura\n",
        "#Ejemplo 8\n",
        "a.siguiente.siguiente = a.siguiente.siguiente.siguiente\n",
        "\n",
        "#Ejmplo 9\n",
        "a.siguiente= a.siguiente.siguiente.siguiente.siguiente\n",
        "\n",
        "\n",
        "#Recorido transversal\n",
        "curr_node = a\n",
        "print(curr_node.dato , \"|-->\",end  =\"\")\n",
        "while (curr_node.siguiente != None):\n",
        "    curr_node =curr_node.siguiente\n",
        "    print(curr_node.dato,\"|-->\", end=\"\")\n",
        "print(\"\")\n",
        "\n"
      ],
      "execution_count": null,
      "outputs": [
        {
          "output_type": "stream",
          "text": [
            "10\n",
            "None\n",
            "10 |-->20 |-->30 |-->40 |-->50 |-->\n",
            "10 |-->20 |-->45 |-->50 |-->\n"
          ],
          "name": "stdout"
        }
      ]
    },
    {
      "cell_type": "code",
      "metadata": {
        "colab": {
          "base_uri": "https://localhost:8080/"
        },
        "id": "kKJqzhzmJM_x",
        "outputId": "8e818ce3-8893-4c56-a92a-9b4719963136"
      },
      "source": [
        "#codigo del 18 de noviembre de 2020\n",
        "class Nodo:\n",
        "    def __init__( self ,  dato, siguiente= None):\n",
        "        self.dato= dato\n",
        "        self.siguiente = siguiente\n",
        "\n",
        "head = Nodo( 10 , Nodo(20, Nodo(30, Nodo(40, Nodo(50) ) ) ) )\n",
        " \n",
        " #Recorrido transversal\n",
        "curr_node = head\n",
        "print(curr_node.dato , \"|-->\",end  =\"\")\n",
        "while (curr_node.siguiente != None):\n",
        "    curr_node =curr_node.siguiente\n",
        "    print(curr_node.dato,\"|-->\", end=\"\")\n",
        "print(\"\")\n",
        "\n",
        "#Insertar el nodo 35 despues del nodo 30\n",
        "anterior= head.siguiente.siguiente\n",
        "print(anterior.dato)\n",
        "nuevo= Nodo(35)\n",
        "nuevo.siguiente= anterior.siguiente\n",
        "print(nuevo.siguiente.dato)\n",
        "anterior.siguiente= nuevo\n",
        "\n",
        " #Recorrido transversal\n",
        "curr_node = head\n",
        "print(curr_node.dato , \"|--> \",end  =\"\")\n",
        "while (curr_node.siguiente != None):\n",
        "    curr_node =curr_node.siguiente\n",
        "    print(curr_node.dato,\"|--> \", end=\"\")\n",
        "print(\"\")\n",
        "\n",
        "#Eliminar el nodo 20\n",
        "head.siguiente= head.siguiente.siguiente\n",
        "\n",
        "#Recorrido transversal\n",
        "curr_node = head\n",
        "print(curr_node.dato , \"|--> \",end  =\"\")\n",
        "while (curr_node.siguiente != None):\n",
        "    curr_node =curr_node.siguiente\n",
        "    print(curr_node.dato,\"|--> \", end=\"\")\n",
        "print(\"\")\n",
        "\n"
      ],
      "execution_count": 15,
      "outputs": [
        {
          "output_type": "stream",
          "text": [
            "10 |-->20 |-->30 |-->40 |-->50 |-->\n",
            "30\n",
            "40\n",
            "10 |--> 20 |--> 30 |--> 35 |--> 40 |--> 50 |--> \n",
            "10 |--> 30 |--> 35 |--> 40 |--> 50 |--> \n"
          ],
          "name": "stdout"
        }
      ]
    },
    {
      "cell_type": "code",
      "metadata": {
        "id": "8_HHkmt4VX_7"
      },
      "source": [
        "class Nodo:\n",
        "    def __init__( self ,  dato, siguiente= None):\n",
        "        self.dato= dato\n",
        "        self.siguiente = siguiente\n",
        "\n",
        "class LinkedList:\n",
        "    def __init__(self):\n",
        "        self.___head = None\n",
        "    \n",
        "    \n",
        "    def is_empty(self):\n",
        "        return self.__head == None\n",
        "\n",
        "    "
      ],
      "execution_count": null,
      "outputs": []
    }
  ]
}