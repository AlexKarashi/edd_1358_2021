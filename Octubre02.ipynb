{
  "nbformat": 4,
  "nbformat_minor": 0,
  "metadata": {
    "colab": {
      "name": "Octubre02.ipynb",
      "provenance": [],
      "authorship_tag": "ABX9TyOOMfT2/9lz6cH84XxdpNVx",
      "include_colab_link": true
    },
    "kernelspec": {
      "name": "python3",
      "display_name": "Python 3"
    }
  },
  "cells": [
    {
      "cell_type": "markdown",
      "metadata": {
        "id": "view-in-github",
        "colab_type": "text"
      },
      "source": [
        "<a href=\"https://colab.research.google.com/github/AlexKarashi/edd_1358_2021/blob/master/Octubre02.ipynb\" target=\"_parent\"><img src=\"https://colab.research.google.com/assets/colab-badge.svg\" alt=\"Open In Colab\"/></a>"
      ]
    },
    {
      "cell_type": "markdown",
      "metadata": {
        "id": "tUKKGbNN3SQH"
      },
      "source": [
        "# tipos de dato\n",
        "- String   str\n",
        "- Enteros   int\n",
        "- numero flotante   float\n",
        "- logico   bool\n",
        "- numero complejo   complex (numeros imaginarios y reales)\n",
        "- lista   list\n",
        "- tuplas   tuple\n",
        "-diccionarios   dict\n",
        "-conjuntos   set\n",
        "   "
      ]
    },
    {
      "cell_type": "code",
      "metadata": {
        "id": "FPrLaeaW3Nd6",
        "outputId": "b13dbad6-5396-45dd-bb19-4ba42ff53680",
        "colab": {
          "base_uri": "https://localhost:8080/",
          "height": 164
        }
      },
      "source": [
        "#String puede emplear comillas simples, dobles o triples(\"\", '',\"\"\" \"\"\")\n",
        "universidad = \"    universidad   nacional   autonoma   de   mexico  \"\n",
        "print(universidad)\n",
        "# cuando el string es una sola palabra se usa '' -> buena practica\n",
        "carrera = 'ico'\n",
        "area = \"software\"\n",
        "division = 'diviosn de las ciencias fisico-matematicas' \n",
        "print (carrera, area)\n",
        "print(division)\n",
        "##triples comillas  dobles(\"\"\" \"\"\")cuando el strin icluye varios renglones\n",
        "frase = \"\"\" si \n",
        "funciona,\n",
        "¡¡¡no\n",
        "lo arregles !!!\n",
        "\"\"\"\n",
        "print (frase)"
      ],
      "execution_count": 8,
      "outputs": [
        {
          "output_type": "stream",
          "text": [
            "    universidad   nacional   autonoma   de   mexico  \n",
            "ico software\n",
            "diviosn de las ciencias fisico-matematicas\n",
            " si \n",
            "funciona,\n",
            "¡¡¡no\n",
            "lo arregles !!!\n",
            "\n"
          ],
          "name": "stdout"
        }
      ]
    },
    {
      "cell_type": "code",
      "metadata": {
        "id": "RvTfVjN74U0b",
        "outputId": "b0ddbd75-3f08-43e9-91d0-cc231b26eff7",
        "colab": {
          "base_uri": "https://localhost:8080/",
          "height": 237
        }
      },
      "source": [
        "#help(str)\n",
        "print(universidad.upper() ) #esta pone todas las letras en mayusculas\n",
        "print(universidad)\n",
        "print(universidad.title())# esta pone las primeras letras en mayusculas\n",
        "#eliminar saltos de linea y espacios derecha/ izquierda\n",
        "universidad =  universidad.strip()\n",
        "print( universidad)\n",
        "lista = universidad.split(\" \")\n",
        "print(lista)\n",
        "nueva=\"\"\n",
        "for l in lista:\n",
        "  if len(l) > 0:\n",
        "    nueva += l + \" \"\n",
        "print(nueva)\n",
        "numeros = \"10,25,38,42,56\"\n",
        "separados= numeros.split(\",\") \n",
        "print(separados)\n",
        "numeros_int= []\n",
        "for num in separados:\n",
        "  numeros_int.append( int(num))\n",
        "print(numeros_int)\n",
        "print(nueva)\n",
        "print(nueva.index(\"na\"))#indica en que parte de la cadena de texto esta ubicado el caracter o caracteres dentro del parentesis\n",
        "print(nueva.replace(' ', '_'))\n",
        "print(nueva)\n"
      ],
      "execution_count": 27,
      "outputs": [
        {
          "output_type": "stream",
          "text": [
            "UNIVERSIDAD   NACIONAL   AUTONOMA   DE   MEXICO\n",
            "universidad   nacional   autonoma   de   mexico\n",
            "Universidad   Nacional   Autonoma   De   Mexico\n",
            "universidad   nacional   autonoma   de   mexico\n",
            "['universidad', '', '', 'nacional', '', '', 'autonoma', '', '', 'de', '', '', 'mexico']\n",
            "universidad nacional autonoma de mexico \n",
            "['10', '25', '38', '42', '56']\n",
            "[10, 25, 38, 42, 56]\n",
            "universidad nacional autonoma de mexico \n",
            "12\n",
            "universidad_nacional_autonoma_de_mexico_\n",
            "universidad nacional autonoma de mexico \n"
          ],
          "name": "stdout"
        }
      ]
    },
    {
      "cell_type": "markdown",
      "metadata": {
        "id": "RCWrFGUK_VT6"
      },
      "source": [
        "# slicing\n",
        "sintaxis\n",
        "[inicio : stop : incremento]"
      ]
    },
    {
      "cell_type": "code",
      "metadata": {
        "id": "4hk-NhGc_uQb",
        "outputId": "9e92601a-b844-49b5-8997-ced6a1df4379",
        "colab": {
          "base_uri": "https://localhost:8080/",
          "height": 164
        }
      },
      "source": [
        "#selector de elementos dento de un string\n",
        "print(nueva[0])\n",
        "nueva = nueva.strip()\n",
        "print(nueva[ len(nueva)-1])#similar a  esto/\\\n",
        "print(nueva[-2])\n",
        "# slicing \n",
        "print(nueva)\n",
        "print(nueva[12: 20 : 1])\n",
        "#tambien se puede hacer de manera negativa\n",
        "print(nueva [-6 :  :  1])\n",
        "# mexico con slicing alreves\n",
        "print(nueva [-1 : -7 : -1]) #el ultimo valor dicce de donde a  donde va akl poner menos 1 va de regreso\n",
        " #valores pior defecto [0 : longitud de la lista: 1]\n",
        "print(nueva[::])"
      ],
      "execution_count": 44,
      "outputs": [
        {
          "output_type": "stream",
          "text": [
            "u\n",
            "o\n",
            "c\n",
            "universidad nacional autonoma de mexico\n",
            "nacional\n",
            "mexico\n",
            "ocixem\n",
            "uiesddncoa uooad eio\n"
          ],
          "name": "stdout"
        }
      ]
    },
    {
      "cell_type": "markdown",
      "metadata": {
        "id": "xMpjH4I2Di9R"
      },
      "source": [
        "# tipo de dato bool\n",
        "solo acepta dos valores \n",
        "True bool(1)\n",
        "False  bool(0)"
      ]
    },
    {
      "cell_type": "code",
      "metadata": {
        "id": "T9i4CTZrEMTj",
        "outputId": "66bd3d1b-c175-417e-acd9-c5f6022a716b",
        "colab": {
          "base_uri": "https://localhost:8080/",
          "height": 90
        }
      },
      "source": [
        "print(bool(0))\n",
        "print(bool(1))#arriba de 0 siempre va a dar true\n",
        "flag = 12\n",
        "print( bool(flag))\n",
        "print(True)"
      ],
      "execution_count": 46,
      "outputs": [
        {
          "output_type": "stream",
          "text": [
            "False\n",
            "True\n",
            "True\n",
            "True\n"
          ],
          "name": "stdout"
        }
      ]
    },
    {
      "cell_type": "markdown",
      "metadata": {
        "id": "ktLLTww6FPHh"
      },
      "source": [
        "#comentarios\n",
        "para un comentario de una linea se usa el #\n",
        "para un comentario de multiple linea, equivalente a /* */ de javay leng c se utiliza \"\"\"\"\"\"\n"
      ]
    },
    {
      "cell_type": "code",
      "metadata": {
        "id": "RZD-Miv3FVKp",
        "outputId": "c6cad92e-4db6-415c-ab67-08aff2f2ca0f",
        "colab": {
          "base_uri": "https://localhost:8080/",
          "height": 36
        }
      },
      "source": [
        "#este es un comentario simple\n",
        "\"\"\"Este es\n",
        "  un comentarios\n",
        "    de multiple\n",
        "      linea \n",
        "\"\"\""
      ],
      "execution_count": 47,
      "outputs": [
        {
          "output_type": "execute_result",
          "data": {
            "application/vnd.google.colaboratory.intrinsic+json": {
              "type": "string"
            },
            "text/plain": [
              "'Este es\\n  un comentarios\\n    de multiple\\n      linea \\n'"
            ]
          },
          "metadata": {
            "tags": []
          },
          "execution_count": 47
        }
      ]
    },
    {
      "cell_type": "markdown",
      "metadata": {
        "id": "2HgtP9ZdFkZ6"
      },
      "source": [
        "# Funcion Print\n",
        "hay 4 formas de utilizar print\n",
        "1. con comas(,)\n",
        "2. con signo + (+)\n",
        "3. con una funcion format() de la clase string\n",
        "1. con el operdor f\"\"\n"
      ]
    },
    {
      "cell_type": "code",
      "metadata": {
        "id": "2UporCzrGIim",
        "outputId": "4fe3dfe9-00df-4601-ad03-d3ad046037e8",
        "colab": {
          "base_uri": "https://localhost:8080/",
          "height": 90
        }
      },
      "source": [
        "#con comas\n",
        "cantidad = 2\n",
        "precio_chetos= 8 #ya no en etsa vida :'C\n",
        "precio_fanta= 12\n",
        "print( cantidad, precio_chetos, precio_fanta) \n",
        "#con el signo + solo opera con str \n",
        "print(\"hola\" + \"mundo\")\n",
        "#suma si son numeros\n",
        "print(cantidad + precio_chetos + precio_fanta)\n",
        "#si se pasan a string no pasa esto pero no deja espacios\n",
        "print(str(cantidad) + str(precio_chetos) + str(precio_fanta))\n"
      ],
      "execution_count": 53,
      "outputs": [
        {
          "output_type": "stream",
          "text": [
            "2 8 12\n",
            "holamundo\n",
            "22\n",
            "2812\n"
          ],
          "name": "stdout"
        }
      ]
    }
  ]
}