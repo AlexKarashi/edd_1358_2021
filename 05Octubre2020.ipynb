{
  "nbformat": 4,
  "nbformat_minor": 0,
  "metadata": {
    "colab": {
      "name": "05Octubre2020.ipynb",
      "provenance": [],
      "authorship_tag": "ABX9TyPCwM2pijdPBvNh9faE9u5p",
      "include_colab_link": true
    },
    "kernelspec": {
      "name": "python3",
      "display_name": "Python 3"
    }
  },
  "cells": [
    {
      "cell_type": "markdown",
      "metadata": {
        "id": "view-in-github",
        "colab_type": "text"
      },
      "source": [
        "<a href=\"https://colab.research.google.com/github/AlexKarashi/edd_1358_2021/blob/master/05Octubre2020.ipynb\" target=\"_parent\"><img src=\"https://colab.research.google.com/assets/colab-badge.svg\" alt=\"Open In Colab\"/></a>"
      ]
    },
    {
      "cell_type": "code",
      "metadata": {
        "id": "gfxl1V8VM0c8",
        "outputId": "5534addd-e91e-40b6-8cdb-eed1ddc350ab",
        "colab": {
          "base_uri": "https://localhost:8080/",
          "height": 72
        }
      },
      "source": [
        "precio= 12.5\n",
        "cantidad = 2\n",
        "existencias= True\n",
        "\n",
        "#precio de los chetos es 12.50 y quiero 2, hay ? : True\n",
        "\n",
        "print(\"El precio de los chetos es $ \", precio,  \" y quiero \", cantidad, \", y hay ? \", existencias)\n",
        "#para acomodar se puede usar format de la clase str\n",
        "print(\" el precio de los chetos es $ {} y quiero {}, hay ?{}\".format(precio, cantidad,existencias))\n",
        "# se puede enumarar para cambiar o desiganr el orden\n",
        "print(\" el precio de los chetos es $ {2} y quiero {0}, hay ?{1}\".format(precio, cantidad,existencias))\n",
        "#operador f\"\"\n",
        "print( f\" el precio de los chetos es $ {precio} y quiero {cantidad}, hay ?{existencias}\")\n",
        "#es una simplificacion, se transforma y luego se ejecuta para simplificar"
      ],
      "execution_count": 4,
      "outputs": [
        {
          "output_type": "stream",
          "text": [
            "El precio de los chetos es $  12.5  y quiero  2 , y hay ?  True\n",
            " el precio de los chetos es $ 12.5 y quiero 2, hay ?True\n",
            " el precio de los chetos es $ True y quiero 12.5, hay ?2\n"
          ],
          "name": "stdout"
        }
      ]
    },
    {
      "cell_type": "markdown",
      "metadata": {
        "id": "Jd8Hwo96YMnt"
      },
      "source": [
        "# Listas \n",
        "declaración [ ]\n",
        "\n",
        "selector [ ]\n",
        "\n",
        "mutable(se pueden modificar elementos internos)\n",
        "\n",
        "# Tuplas\n",
        "declaracio ()\n",
        "\n",
        "selector [ ]\n",
        "\n",
        "no mutable\n",
        "\n",
        "# Diccionarios\n",
        "conjuntos de datos en pares de llave:valor\n",
        "\n",
        "son mutables al igual que las listas\n",
        "\n",
        "equivalentes a los objetos JSON\n",
        "\n",
        "# Conjuntos\n",
        "Grupo de elementos con la teoria de conjuntos\n",
        "\n",
        "operaciones de conjuntos"
      ]
    },
    {
      "cell_type": "code",
      "metadata": {
        "id": "J5qIqjwrZWRH",
        "outputId": "ae7f4b96-55a0-4a87-e3b0-2ea86d3430ff",
        "colab": {
          "base_uri": "https://localhost:8080/",
          "height": 403
        }
      },
      "source": [
        "#listas\n",
        "materias= [\"CyP\", \"DAA\", \"EDD\", \"IS\", \"POO\"]\n",
        "print(materias[2])\n",
        "print(materias[-1])\n",
        "print(materias[4])\n",
        "print(materias[::-1])\n",
        "\n",
        "#crear una lista a partir de un String\n",
        "fechas = \"05/Octubre/2020\"\n",
        "lista_fecha= fechas.split (\"/\")\n",
        "print(lista_fecha)\n",
        "#crear un string a partir de una lista\n",
        "lista_hora = (\"15\",\"22\",\"45\")\n",
        "#deben de ser tipo string para concatenarlos\n",
        "hora = \":\".join(lista_hora)\n",
        "print(hora)\n",
        "print(\"--------------------______________--------------------\")\n",
        "print(materias)\n",
        "print(lista_fecha)\n",
        "print(lista_hora)\n",
        "materias[0] = \"Computadoras y programacion\"\n",
        "print(materias)\n",
        "#se pudeden agregar elementos en la parte final\n",
        "materias.append(\"Calidad\")\n",
        "print(materias)\n",
        "#con .insert se puede mandar a la posicion  que uno quiera\n",
        "materias.insert(2,\"Emprendimineto\")\n",
        "print(materias)\n",
        "materia =materias.pop()\n",
        "print(materias)\n",
        "print(materia)\n",
        "materia = materias.pop(1)\n",
        "print(materias)\n",
        "print(materia)\n",
        "#vaciar lista \n",
        "materias.clear()\n",
        "print(materias)\n",
        "#slicing [::]\n",
        "print(\"Slicing\")\n",
        "numeros= [0,1,2,3,4,5,6,7,8,9,10]\n",
        "print(numeros[4:9:1])\n",
        "#SUSTITUIR UN SEGMENTO CON SLICING [0,1,2,3,-2,9,10]\n",
        "numeros[4:8:1] =[-2,-3]\n",
        "#tambien se pueden agregar elementos str\n",
        "print(numeros)\n",
        "\n"
      ],
      "execution_count": 22,
      "outputs": [
        {
          "output_type": "stream",
          "text": [
            "EDD\n",
            "POO\n",
            "POO\n",
            "['POO', 'IS', 'EDD', 'DAA', 'CyP']\n",
            "['05', 'Octubre', '2020']\n",
            "15:22:45\n",
            "--------------------______________--------------------\n",
            "['CyP', 'DAA', 'EDD', 'IS', 'POO']\n",
            "['05', 'Octubre', '2020']\n",
            "('15', '22', '45')\n",
            "['Computadoras y programacion', 'DAA', 'EDD', 'IS', 'POO']\n",
            "['Computadoras y programacion', 'DAA', 'EDD', 'IS', 'POO', 'Calidad']\n",
            "['Computadoras y programacion', 'DAA', 'Emprendimineto', 'EDD', 'IS', 'POO', 'Calidad']\n",
            "['Computadoras y programacion', 'DAA', 'Emprendimineto', 'EDD', 'IS', 'POO']\n",
            "Calidad\n",
            "['Computadoras y programacion', 'Emprendimineto', 'EDD', 'IS', 'POO']\n",
            "DAA\n",
            "[]\n",
            "Slicing\n",
            "[4, 5, 6, 7, 8]\n",
            "[0, 1, 2, 3, -2, -3, 8, 9, 10]\n"
          ],
          "name": "stdout"
        }
      ]
    },
    {
      "cell_type": "code",
      "metadata": {
        "id": "TA9-EQm2iMxb",
        "outputId": "7dfee7a2-9f91-4b23-d169-f270fbbcea7b",
        "colab": {
          "base_uri": "https://localhost:8080/",
          "height": 35
        }
      },
      "source": [
        "autos=[\"mazda\", \"honda\", \"Akura\", \"ford\",  \"VW\"]\n",
        "telefonos = [\"iphone\", \"Dawae mate 30\", \"xiaomi \", \"oppo \"]\n",
        "sistemas_operativos =[\"Windows\", \"Linux\", \"Andorid\", \"IOs\", \"MacOs\"]\n",
        "\n",
        "lista_2d =[autos,telefonos,sistemas_operativos]\n",
        "print(lista_2d)\n",
        "print(lista2d[1][1]\n",
        "#para seleccionar un dato de las listas"
      ],
      "execution_count": 23,
      "outputs": [
        {
          "output_type": "stream",
          "text": [
            "[['mazda', 'honda', 'Akura', 'ford', 'VW'], ['iphone', 'Dawae mate 30', 'xiaomi ', 'oppo '], ['Windows', 'Linux', 'Andorid', 'IOs', 'MacOs']]\n"
          ],
          "name": "stdout"
        }
      ]
    }
  ]
}