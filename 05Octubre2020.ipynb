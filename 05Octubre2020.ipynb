{
  "nbformat": 4,
  "nbformat_minor": 0,
  "metadata": {
    "colab": {
      "name": "05Octubre2020.ipynb",
      "provenance": [],
      "authorship_tag": "ABX9TyMpgu/1bk4/C7rwfHybeA4k",
      "include_colab_link": true
    },
    "kernelspec": {
      "name": "python3",
      "display_name": "Python 3"
    }
  },
  "cells": [
    {
      "cell_type": "markdown",
      "metadata": {
        "id": "view-in-github",
        "colab_type": "text"
      },
      "source": [
        "<a href=\"https://colab.research.google.com/github/AlexKarashi/edd_1358_2021/blob/master/05Octubre2020.ipynb\" target=\"_parent\"><img src=\"https://colab.research.google.com/assets/colab-badge.svg\" alt=\"Open In Colab\"/></a>"
      ]
    },
    {
      "cell_type": "code",
      "metadata": {
        "id": "gfxl1V8VM0c8",
        "outputId": "5534addd-e91e-40b6-8cdb-eed1ddc350ab",
        "colab": {
          "base_uri": "https://localhost:8080/",
          "height": 72
        }
      },
      "source": [
        "precio= 12.5\n",
        "cantidad = 2\n",
        "existencias= True\n",
        "\n",
        "#precio de los chetos es 12.50 y quiero 2, hay ? : True\n",
        "\n",
        "print(\"El precio de los chetos es $ \", precio,  \" y quiero \", cantidad, \", y hay ? \", existencias)\n",
        "#para acomodar se puede usar format de la clase str\n",
        "print(\" el precio de los chetos es $ {} y quiero {}, hay ?{}\".format(precio, cantidad,existencias))\n",
        "# se puede enumarar para cambiar o desiganr el orden\n",
        "print(\" el precio de los chetos es $ {2} y quiero {0}, hay ?{1}\".format(precio, cantidad,existencias))\n",
        "#operador f\"\"\n",
        "print( f\" el precio de los chetos es $ {precio} y quiero {cantidad}, hay ?{existencias}\")\n",
        "#es una simplificacion, se transforma y luego se ejecuta para simplificar"
      ],
      "execution_count": 4,
      "outputs": [
        {
          "output_type": "stream",
          "text": [
            "El precio de los chetos es $  12.5  y quiero  2 , y hay ?  True\n",
            " el precio de los chetos es $ 12.5 y quiero 2, hay ?True\n",
            " el precio de los chetos es $ True y quiero 12.5, hay ?2\n"
          ],
          "name": "stdout"
        }
      ]
    }
  ]
}