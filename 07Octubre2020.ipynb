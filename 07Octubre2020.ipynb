{
  "nbformat": 4,
  "nbformat_minor": 0,
  "metadata": {
    "colab": {
      "name": "07Octubre2020.ipynb",
      "provenance": [],
      "authorship_tag": "ABX9TyOKnRxsR4QiNmt31UJepkP5",
      "include_colab_link": true
    },
    "kernelspec": {
      "name": "python3",
      "display_name": "Python 3"
    }
  },
  "cells": [
    {
      "cell_type": "markdown",
      "metadata": {
        "id": "view-in-github",
        "colab_type": "text"
      },
      "source": [
        "<a href=\"https://colab.research.google.com/github/AlexKarashi/edd_1358_2021/blob/master/07Octubre2020.ipynb\" target=\"_parent\"><img src=\"https://colab.research.google.com/assets/colab-badge.svg\" alt=\"Open In Colab\"/></a>"
      ]
    },
    {
      "cell_type": "code",
      "metadata": {
        "id": "UaBRA17giErr",
        "outputId": "0a9a039b-2f8f-48de-cc8f-c0f441aee82a",
        "colab": {
          "base_uri": "https://localhost:8080/"
        }
      },
      "source": [
        "#listas multidimension\n",
        "autos=[\"mazda\", \"honda\", \"Akura\", \"ford\",  \"VW\"]\n",
        "telefonos = [\"iphone\", \"Dawae mate 30\", \"xiaomi \", \"oppo \"]\n",
        "sistemas_operativos =[\"Windows\", \"Linux\", \"Andorid\", \"IOs\", \"MacOs\"]\n",
        "procesadores=[[\"intel\",3.1,True],[\"AMD\",2.7, False], [\"Motorola\", 1.1, False]]\n",
        "lista_nd = [autos,telefonos,sistemas_operativos,procesadores]\n",
        "print(lista_nd)\n",
        "#dentro e la lista se selecciona un elemento el primero es para seleccionar posicion, el segundo para lista\n",
        "print(lista_nd[2][3])\n",
        "#en este caso los ultimos parentesis marcan de donde a donde (a nivel caracter) dentro de las listas especificadas \n",
        "print(lista_nd[1][1][3:6])\n",
        " \n",
        "print(lista_nd[3][1][1])\n",
        "\n",
        "print(lista_nd[3][2][0][2:6])\n",
        "\n",
        "print(lista_nd[3][0][0][-2:-5:-1])\n",
        "\n",
        "colores = [\"Rojo\", \"Verde\", \"Azul\", \"Negro\"]\n",
        "flores = [\"Margarita\",\"Rosa\"]\n",
        "nueva = colores + flores\n",
        "print(nueva)\n",
        "#concatenar listas \n",
        "print(colores)\n",
        "print(flores)\n",
        "#con extends\n",
        "colores.extend(flores)\n",
        "print(colores)\n",
        "\n",
        "#unpacking de listas\n",
        "#sirve para sacar las variables independientes\n",
        "print(\"unpacking\")\n",
        "datos_personales=[\"Jose\", \"Perez\", \"Juarez\", 22, 1.67, True]\n",
        "nombre= datos_personales[0]\n",
        "print(nombre)\n",
        "nombre, paterno, materno, edad, est, fuma= datos_personales\n",
        "print(f\"Nombre:{nombre} \\n Edad:{edad}\")"
      ],
      "execution_count": 17,
      "outputs": [
        {
          "output_type": "stream",
          "text": [
            "[['mazda', 'honda', 'Akura', 'ford', 'VW'], ['iphone', 'Dawae mate 30', 'xiaomi ', 'oppo '], ['Windows', 'Linux', 'Andorid', 'IOs', 'MacOs'], [['intel', 3.1, True], ['AMD', 2.7, False], ['Motorola', 1.1, False]]]\n",
            "IOs\n",
            "ae \n",
            "2.7\n",
            "toro\n",
            "etn\n",
            "['Rojo', 'Verde', 'Azul', 'Negro', 'Margarita', 'Rosa']\n",
            "['Rojo', 'Verde', 'Azul', 'Negro']\n",
            "['Margarita', 'Rosa']\n",
            "['Rojo', 'Verde', 'Azul', 'Negro', 'Margarita', 'Rosa']\n",
            "unpacking\n",
            "Jose\n",
            "Nombre:Jose \n",
            " Edad:22\n"
          ],
          "name": "stdout"
        }
      ]
    },
    {
      "cell_type": "code",
      "metadata": {
        "id": "QNn4RuacuKp-",
        "outputId": "0db3d1be-6f49-4ed5-fbc8-31498d943e75",
        "colab": {
          "base_uri": "https://localhost:8080/"
        }
      },
      "source": [
        "#Tuplas\n",
        "bd= ('127.0.0.1', 'root', 'toor', '12345')\n",
        "print(f\"usuario de la bd es {bd[1]}\")\n",
        "#error tupla no soporta asigancion de elemnetos\n",
        "#bd[1]='user1'\n",
        "print(bd[1:3]) \n",
        "# tupla = ver no tocar\n",
        "\n"
      ],
      "execution_count": 19,
      "outputs": [
        {
          "output_type": "stream",
          "text": [
            "usuario de la bd es root\n",
            "root [2]\n"
          ],
          "name": "stdout"
        }
      ]
    },
    {
      "cell_type": "code",
      "metadata": {
        "id": "icwF9WTGwUQb"
      },
      "source": [
        "#diccionaros\n",
        "alumno={'nombre': 'juan', 'edad':22, 'carrera': 'ICO'}\n",
        "print(alumno)\n",
        "print(alumno[\"edad\"])\n",
        "alumno={\n",
        "    'nombre':'juan',\n",
        "    'edad' : 22,\n",
        "    'carrera': 'ICO',\n",
        "    'direccion':{'calle':'Bosques de africa', \n",
        "                  'numero':33,\n",
        "                 'delegacion': 'Nezahualcoyotl',\n",
        "                  'estado':15,\n",
        "                  'nombre_estado': 'Estado de Mexico'\n",
        "                  }\n",
        "        \n",
        "}\n",
        "print(alumno)\n",
        "print(alumno['direccion'])\n",
        "print(alumno['direccion']['delegacion'])\n",
        "print(alumno['direccion']['delegacion'][3:7])\n",
        "print(alumno['direccion']['delegacion'][3:7].upper() )\n",
        "alumno['edad']= 35\n",
        "#para modificar datos \n",
        "print(alumno)\n",
        "alumno['promedio']=9.9\n",
        "#se mete un nuevo elemento a la lista\n",
        "print(alumno)\n",
        "alumno['direccion']['cp']= 17170\n",
        "print(alumno)\n",
        "alumno['materia']={'nombre': 'CyP', 'calificaciones ':10}\n",
        "print(alumno)\n",
        "cliente={'id':1, 'nombre': 'Carlos Slim'}\n",
        "print(cliente)"
      ],
      "execution_count": null,
      "outputs": []
    }
  ]
}