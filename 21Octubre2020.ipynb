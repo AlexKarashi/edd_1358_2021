{
  "nbformat": 4,
  "nbformat_minor": 0,
  "metadata": {
    "colab": {
      "name": "21Octubre2020.ipynb",
      "provenance": [],
      "authorship_tag": "ABX9TyNdd1M99WlZAb6gIMD70dNZ",
      "include_colab_link": true
    },
    "kernelspec": {
      "name": "python3",
      "display_name": "Python 3"
    }
  },
  "cells": [
    {
      "cell_type": "markdown",
      "metadata": {
        "id": "view-in-github",
        "colab_type": "text"
      },
      "source": [
        "<a href=\"https://colab.research.google.com/github/AlexKarashi/edd_1358_2021/blob/master/21Octubre2020.ipynb\" target=\"_parent\"><img src=\"https://colab.research.google.com/assets/colab-badge.svg\" alt=\"Open In Colab\"/></a>"
      ]
    },
    {
      "cell_type": "code",
      "metadata": {
        "id": "OCh1qkatsMAB",
        "outputId": "ea81e437-c766-4637-cfcd-c84584a229bd",
        "colab": {
          "base_uri": "https://localhost:8080/",
          "height": 90
        }
      },
      "source": [
        "#estilo tradicional (encapsulamiento)\n",
        "class Smartphone:\n",
        "    def __init__(self, m):\n",
        "        self.__marca = m\n",
        "\n",
        "    def set_marca(self,  m):\n",
        "        self.__marca = m\n",
        "\n",
        "    def get_marca(self):\n",
        "        return self.__marca\n",
        "\n",
        "    def to_string (self):\n",
        "        return \" la marca del telefono es: \" + self.__marca\n",
        "sp1 = Smartphone (\"Dawae\")\n",
        "print( sp1.to_string())\n",
        "sp1.__marca = \"iPhone x\"\n",
        "print( sp1.to_string())\n",
        "sp1.set_marca(\"Samsung\")\n",
        "print( sp1.to_string())\n",
        "print(sp1.get_marca())\n"
      ],
      "execution_count": 5,
      "outputs": [
        {
          "output_type": "stream",
          "text": [
            " la marca del telefono es: Dawae\n",
            " la marca del telefono es: Dawae\n",
            " la marca del telefono es: Samsung\n",
            "Samsung\n"
          ],
          "name": "stdout"
        }
      ]
    },
    {
      "cell_type": "code",
      "metadata": {
        "id": "KVHkNDN4xYMT",
        "outputId": "43e767f2-c133-49e8-ead5-3a00c176d558",
        "colab": {
          "base_uri": "https://localhost:8080/",
          "height": 127
        }
      },
      "source": [
        "#estilo Python 3\n",
        "class Smartphone:\n",
        "    def __init__(self, m ):\n",
        "        self.marca = m #se llama al metodo set de marca\n",
        "        #se declara get y el atributo marca al mismo tiempo\n",
        "\n",
        "    @property\n",
        "    def marca (self): #define metodo get y declara self.__marca\n",
        "        #print( \"En el metodo get de marca\")\n",
        "        return self.__marca #declara la propiedad y la marca privada\n",
        "    \n",
        "    @marca.setter\n",
        "    def marca (self , m):\n",
        "        if m in [\"Lenovo\", \"Sony\", \"Motorola\", \"Iphone SE\", \"Dawae\", \"Xiaomi\"]:\n",
        "            self.__marca = m\n",
        "        else:\n",
        "            print(\"Asignacion, no valida\")\n",
        "    \n",
        "    def to_string (self):\n",
        "        return  \"Marca: \" + self.marca\n",
        "\n",
        "sp2 = Smartphone(\"Xiaomi\")\n",
        "print(sp2.to_string())\n",
        "sp2.__marca = \"Iphone SE\"\n",
        "print(sp2.to_string())\n",
        "sp2.marca = \"Motorola\" # invocacion del metodo set\n",
        "print(sp2.to_string())\n",
        "\n",
        "print(sp2.marca) # invocaion del metod get\n",
        "\n",
        "sp2.marca = \"zxxxxxzxzxzzxzx\"\n",
        "print(sp2.to_string())"
      ],
      "execution_count": 21,
      "outputs": [
        {
          "output_type": "stream",
          "text": [
            "Marca: Xiaomi\n",
            "Marca: Xiaomi\n",
            "Marca: Motorola\n",
            "Motorola\n",
            "Asignacion, no valida\n",
            "Marca: Motorola\n"
          ],
          "name": "stdout"
        }
      ]
    },
    {
      "cell_type": "code",
      "metadata": {
        "id": "zvqOlmZS4Rbt",
        "outputId": "4048b133-0dc2-43e8-8db6-b675962f8d23",
        "colab": {
          "base_uri": "https://localhost:8080/",
          "height": 74
        }
      },
      "source": [
        "#Herencia\n",
        "class TelefonoTrabajo(Smartphone):\n",
        "    def __init__(self, m):\n",
        "        self.marca= m\n",
        "sp3 = TelefonoTrabajo(\"Lenovo\")\n",
        "print(dir( sp3))\n",
        "print(sp3.to_string())"
      ],
      "execution_count": 24,
      "outputs": [
        {
          "output_type": "stream",
          "text": [
            "['_Smartphone__marca', '__class__', '__delattr__', '__dict__', '__dir__', '__doc__', '__eq__', '__format__', '__ge__', '__getattribute__', '__gt__', '__hash__', '__init__', '__init_subclass__', '__le__', '__lt__', '__module__', '__ne__', '__new__', '__reduce__', '__reduce_ex__', '__repr__', '__setattr__', '__sizeof__', '__str__', '__subclasshook__', '__weakref__', 'marca', 'to_string']\n",
            "Marca: Lenovo\n"
          ],
          "name": "stdout"
        }
      ]
    }
  ]
}