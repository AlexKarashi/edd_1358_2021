{
  "nbformat": 4,
  "nbformat_minor": 0,
  "metadata": {
    "colab": {
      "name": "30_nov_1358.ipynb",
      "provenance": [],
      "authorship_tag": "ABX9TyNMitBDbGoFDgEy1X4KTU3V",
      "include_colab_link": true
    },
    "kernelspec": {
      "name": "python3",
      "display_name": "Python 3"
    }
  },
  "cells": [
    {
      "cell_type": "markdown",
      "metadata": {
        "id": "view-in-github",
        "colab_type": "text"
      },
      "source": [
        "<a href=\"https://colab.research.google.com/github/AlexKarashi/edd_1358_2021/blob/master/30_nov_1358.ipynb\" target=\"_parent\"><img src=\"https://colab.research.google.com/assets/colab-badge.svg\" alt=\"Open In Colab\"/></a>"
      ]
    },
    {
      "cell_type": "code",
      "metadata": {
        "id": "E7d-Zx_75quZ"
      },
      "source": [
        "class Stack:\n",
        "    def __init__(self):\n",
        "        self.__data = []\n",
        "        self.__size = 0\n",
        "\n",
        "    def pop(self):\n",
        "        return self.__data.pop()\n",
        "    \n",
        "    def peek(self):\n",
        "        return self.__data[-1]\n",
        "    \n",
        "    def push( self, value):\n",
        "        self.__data.append(value)\n",
        "\n",
        "    def to_string(self):\n",
        "        print(\"-----\")\n",
        "        for dato in self.__data:\n",
        "            print(f\"| {dato} |\")\n",
        "            print(\"------\")"
      ],
      "execution_count": 20,
      "outputs": []
    },
    {
      "cell_type": "code",
      "metadata": {
        "colab": {
          "base_uri": "https://localhost:8080/"
        },
        "id": "U7bnsnH-AF7c",
        "outputId": "91b6d9af-8576-4620-8eaf-d6368c6efd98"
      },
      "source": [
        "pl= Stack()\n",
        "pl.push(34)\n",
        "pl.push(10)\n",
        "pl.push(45)\n",
        "pl.push(4)\n",
        "pl.push(23)\n",
        "pl.push(33)\n",
        "valor = pl.pop()\n",
        "print(valor*2)\n",
        "pl.to_string()"
      ],
      "execution_count": 15,
      "outputs": [
        {
          "output_type": "stream",
          "text": [
            "66\n",
            "-----\n",
            "| 34 |\n",
            "------\n",
            "| 10 |\n",
            "------\n",
            "| 45 |\n",
            "------\n",
            "| 4 |\n",
            "------\n",
            "| 23 |\n",
            "------\n"
          ],
          "name": "stdout"
        }
      ]
    },
    {
      "cell_type": "code",
      "metadata": {
        "colab": {
          "base_uri": "https://localhost:8080/"
        },
        "id": "vELRbQtuB2ju",
        "outputId": "4f78f005-21a5-4330-b2ca-6fb94321718b"
      },
      "source": [
        "#aplicaciones de la estructura Stack\n",
        "#1.-validacion de pparentesis balanceados '(', '{' y  '[' \n",
        "\n",
        "cadena = \"b=3*(5+(4/2))\"\n",
        "#cadena = \"))))))((\"\n",
        "pila = Stack()\n",
        "pila.push(\"#\") #carácter  de pila vacía\n",
        "for elem in cadena:\n",
        "    if elem ==  '(':\n",
        "        pila.push('*')\n",
        "    elif elem ==  ')':\n",
        "        pila.pop()\n",
        "    else:\n",
        "        pass\n",
        "if pila.peek() == '#':\n",
        "    print(\"la expresion esta balanceada en parentesis\")\n",
        "else:\n",
        "    print(\"La expresion no estaa balanceada\")"
      ],
      "execution_count": 21,
      "outputs": [
        {
          "output_type": "stream",
          "text": [
            "la expresion esta balanceada en parentesis\n"
          ],
          "name": "stdout"
        }
      ]
    }
  ]
}