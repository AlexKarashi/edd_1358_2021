{
  "nbformat": 4,
  "nbformat_minor": 0,
  "metadata": {
    "colab": {
      "name": "30septiembre_1358.ipynb",
      "provenance": [],
      "authorship_tag": "ABX9TyNecv39Nbh04epZfAyvbYYs",
      "include_colab_link": true
    },
    "kernelspec": {
      "name": "python3",
      "display_name": "Python 3"
    }
  },
  "cells": [
    {
      "cell_type": "markdown",
      "metadata": {
        "id": "view-in-github",
        "colab_type": "text"
      },
      "source": [
        "<a href=\"https://colab.research.google.com/github/AlexKarashi/edd_1358_2021/blob/master/30septiembre_1358.ipynb\" target=\"_parent\"><img src=\"https://colab.research.google.com/assets/colab-badge.svg\" alt=\"Open In Colab\"/></a>"
      ]
    },
    {
      "cell_type": "markdown",
      "metadata": {
        "id": "ThgfObCIs13r"
      },
      "source": [
        "# fundamentos python 3\n",
        "### tipos de datos basicos\n",
        "edad= 13\n",
        "nombre = \"jose\" \n",
        "estatura= 1.67\n",
        "tiene_ine= true\n",
        "### Compuestos\n",
        "\n",
        "### Listas \n",
        "Son mutables\n",
        "se accede a los elementos via el indice\n",
        "los elementos pueden ser de diferente tipo\n",
        "lista_ejemplo = [\"manzana!, 1.57, True [\"rojo\", \"azul\"]]\n",
        "\n",
        "\n",
        "### Truplas\n",
        "son inmutables\n",
        "se accede a los elementos mediante el indice\n",
        "los elementos pueden ser de diferente tipo\n",
        "tupla_ejemplo = (\"root\" , \"123.322.45.4\" , \"1234dios\")\n",
        "###Diccionarios\n",
        "son equivalentes a los JSON de JS\n",
        "### Sets\n",
        "Son datos agrupados\n"
      ]
    },
    {
      "cell_type": "code",
      "metadata": {
        "id": "TJ2uoHXGsyYL",
        "outputId": "8d7fdc6d-1864-43eb-c0fe-19f7970a9f82",
        "colab": {
          "base_uri": "https://localhost:8080/",
          "height": 237
        }
      },
      "source": [
        "lista_ejemplo = [\"manzana\", 1.57 , True , [\"rojo\", \"azul\"]]\n",
        "print(lista_ejemplo[1])\n",
        "print(lista_ejemplo[3])\n",
        "print(lista_ejemplo[3][1])\n",
        "lista_ejemplo[0]=\"Manzana\"\n",
        "print(lista_ejemplo[0])\n",
        "#append agrega elementos al final\n",
        "lista_ejemplo.append(\"iPhone\")\n",
        "print(lista_ejemplo)\n",
        "#sacar un elemento con pop ( el ultimo elemento)\n",
        "valor = lista_ejemplo.pop()\n",
        "print(valor)\n",
        "print(lista_ejemplo)\n",
        "\n",
        "#documentacion del tipo de datos lista dir() ayuda resumida y help() ayuda mas detallada\n",
        "##dir(list)\n",
        "#los que tienen guion bajo son privados\n",
        "##help(list)\n",
        "#se le pueden poner tambien listas y otros datos y regresa lo que se puede hacer con dato y su tipo de dato\n",
        "print(\"-------------------------------\")\n",
        "# print(help(str))\n",
        "lista_ejemplo.insert(1,\"Dawae\")\n",
        "#con el numnero dices en donde se va a meter el dato en la lista\n",
        "print(lista_ejemplo)\n",
        "conteo =lista_ejemplo.count(True)\n",
        "#.count cuenta el numero de veces que haya de un \"algo\" en la lista\n",
        "print(conteo)\n",
        "\n",
        "colores= [\"verde\", \"naranja\", \"morao\"]\n",
        "lista_ejemplo.append(colores)\n",
        "print(lista_ejemplo)\n",
        "#para unir dos listas es con extend\n",
        "lista_ejemplo.extend(colores)\n",
        "print(lista_ejemplo)\n"
      ],
      "execution_count": 16,
      "outputs": [
        {
          "output_type": "stream",
          "text": [
            "1.57\n",
            "['rojo', 'azul']\n",
            "azul\n",
            "Manzana\n",
            "['Manzana', 1.57, True, ['rojo', 'azul'], 'iPhone']\n",
            "iPhone\n",
            "['Manzana', 1.57, True, ['rojo', 'azul']]\n",
            "-------------------------------\n",
            "['Manzana', 'Dawae', 1.57, True, ['rojo', 'azul']]\n",
            "1\n",
            "['Manzana', 'Dawae', 1.57, True, ['rojo', 'azul'], ['verde', 'naranja', 'morao']]\n",
            "['Manzana', 'Dawae', 1.57, True, ['rojo', 'azul'], ['verde', 'naranja', 'morao'], 'verde', 'naranja', 'morao']\n"
          ],
          "name": "stdout"
        }
      ]
    }
  ]
}