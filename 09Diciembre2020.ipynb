{
  "nbformat": 4,
  "nbformat_minor": 0,
  "metadata": {
    "colab": {
      "name": "04Diciembre2020.ipynb",
      "provenance": [],
      "authorship_tag": "ABX9TyMeV6/lO1ZAn0dJPwdcrbLj",
      "include_colab_link": true
    },
    "kernelspec": {
      "name": "python3",
      "display_name": "Python 3"
    }
  },
  "cells": [
    {
      "cell_type": "markdown",
      "metadata": {
        "id": "view-in-github",
        "colab_type": "text"
      },
      "source": [
        "<a href=\"https://colab.research.google.com/github/AlexKarashi/edd_1358_2021/blob/master/09Diciembre2020.ipynb\" target=\"_parent\"><img src=\"https://colab.research.google.com/assets/colab-badge.svg\" alt=\"Open In Colab\"/></a>"
      ]
    },
    {
      "cell_type": "code",
      "metadata": {
        "id": "BIkg_bvwj8Nt"
      },
      "source": [
        "\"\"\"\n",
        "Array2D\n",
        "\"\"\"\n",
        "\n",
        "class Array2D:\n",
        "\n",
        "    def __init__(self,rows, cols, value):\n",
        "        self.__cols = cols\n",
        "        self.__rows = rows\n",
        "        self.__array=[[value for x in range(self.__cols)] for y in range(self.__rows)]\n",
        "\n",
        "    def to_string(self):\n",
        "        [print(\"---\",end=\"\") for x in range(self.__cols)]\n",
        "        print(\"\")\n",
        "        for ren in self.__array:\n",
        "            print(ren)\n",
        "        [print(\"---\",end=\"\") for x in range(self.__cols)]\n",
        "        print(\"\")\n",
        "\n",
        "    def get_num_rows(self):\n",
        "        return self.__rows\n",
        "\n",
        "    def get_num_cols(self):\n",
        "        return self.__cols\n",
        "\n",
        "    def get_item(self,row,col):\n",
        "        return self.__array[row][col]\n",
        "\n",
        "    def set_item( self , row , col , valor ):\n",
        "        self.__array[row][col]=valor\n",
        "\n",
        "    def clearing(self, valor=0):\n",
        "        for ren in range(self.__rows):\n",
        "            for col in range(self.__cols):\n",
        "                self.__array[ren][col]=valor"
      ],
      "execution_count": 38,
      "outputs": []
    },
    {
      "cell_type": "code",
      "metadata": {
        "id": "y_Pni8proDwm"
      },
      "source": [
        "#Aqui va la pila\n",
        "class Stack:\n",
        "    def __init__(self):\n",
        "        self.__data = []\n",
        "        self.__size = 0\n",
        "\n",
        "    def pop(self):\n",
        "        return self.__data.pop()\n",
        "\n",
        "    def get_size(self):\n",
        "        return self.__size\n",
        "\n",
        "    def peak(self):\n",
        "        if len(self.__data) > 0:\n",
        "            return self.__data[-1]\n",
        "        else:\n",
        "            return None\n",
        "\n",
        "    def push(self,value):\n",
        "        self.__data.append(value)\n",
        "        self.__size += 1\n",
        "\n",
        "    def to_string(self):\n",
        "        print(\"-\"*6)\n",
        "        for dato in self.__data[::-1]:\n",
        "            print(f\"| {dato} |\")\n",
        "            print(\"/\" * 6)\n",
        "        print(\"\")"
      ],
      "execution_count": 44,
      "outputs": []
    },
    {
      "cell_type": "code",
      "metadata": {
        "id": "6BY437ejkbjz"
      },
      "source": [
        "class LaberintoADT:\n",
        "    def __init__(self, archivo):\n",
        "        self.__laberinto = Array2D(0,0,0)\n",
        "        self.__camino = Stack()\n",
        "        self.__rens = 0\n",
        "        self.__cols = 0\n",
        "        self.__entrada = (0,0)\n",
        "\n",
        "        entrada = open(archivo,'rt')\n",
        "        datos = entrada.readlines()\n",
        "        self.__rens = int(datos.pop(0).strip())\n",
        "        self.__cols = int(datos.pop(0).strip())\n",
        "        self.__entrada = list(datos[0].strip().split(','))\n",
        "        self.__entrada[0]=int(self.__entrada[0])\n",
        "        self.__entrada[1]=int(self.__entrada[1])\n",
        "        self.__camino.push((self.__entrada[0],self.__entrada[1]))\n",
        "\n",
        "        datos.pop(0) #eliminamos la tupla de la entrada\n",
        "        \n",
        "        self.__laberinto=Array2D(self.__rens,self.__cols,'1')\n",
        "        for renglon in range(self.__rens):\n",
        "            info_ren= datos[renglon].strip().split(',')\n",
        "            for columna in range(self.__cols):\n",
        "                self.__laberinto.set_item(renglon,columna,info_ren[columna])\n",
        "    \n",
        "    def imprimir_camino(self):\n",
        "        self.__camino.to_string()\n",
        "\n",
        "    def mostrar(self):\n",
        "        self.__laberinto.to_string()\n",
        "\n",
        "    def resolver (self):\n",
        "        actual= self.__camino.peak()#(6,2)la entrada\n",
        "        #6 reglas\n",
        "        #Buscar izq\n",
        "        if self.__laberinto.get_item( actual[0], actual[1] -1) == '0' and self.__laberinto.get_item(actual[0], actual[1] -1) != 'x' and self.__previa != (actual[0] , actual[1] -1):\n",
        "            self.__previa = actual\n",
        "            self.__camino.push((actual[0], actual[1]-1))\n",
        "        # me marca error pero no soy capas de encontrar el porque\n",
        "        # creo que lo solucione\n",
        "        #Buscar arriba\n",
        "        elif self.__laberinto.get_item( actual[0]-1, actual[1]) == '0' and self.__laberinto.get_item(actual[0]-1, actual[1] ) != 'x'and self.__previa != (actual[0]-1 , actual[1] ):\n",
        "            self.__previa = actual\n",
        "            self.__camino.push((actual[0]-1, actual[1]))\n",
        "        #Buscar derecha\n",
        "        elif 1==2:\n",
        "            pass\n",
        "        #Buscar abajo\n",
        "        elif 1==2:\n",
        "            pass\n",
        "        #se puede terminar\n",
        "        else:\n",
        "            self.__laberinto.set_item(actual[0], actua[1],'x')\n",
        "            self.__camino.pop()\n",
        "    def otros():\n",
        "            pass\n",
        "            \n",
        "\n",
        "                \n"
      ],
      "execution_count": 70,
      "outputs": []
    },
    {
      "cell_type": "code",
      "metadata": {
        "colab": {
          "base_uri": "https://localhost:8080/",
          "height": 584
        },
        "id": "2Qs1JGfGnWYi",
        "outputId": "47f28069-ccfe-481f-ee00-e84be2f47aa7"
      },
      "source": [
        "#main\n",
        "laberinto = LaberintoADT(\"entrada.txt\")\n",
        "laberinto.mostrar()\n",
        "laberinto.imprimir_camino()\n",
        "laberinto.resolver()"
      ],
      "execution_count": 71,
      "outputs": [
        {
          "output_type": "stream",
          "text": [
            "---------------------\n",
            "['1', '1', '1', '1', '1', '1', '1']\n",
            "['1', '1', '1', '1', '1', '1', '1']\n",
            "['1', '1', '1', '1', '1', '1', '1']\n",
            "['1', '1', '1', '1', '1', '1', '1']\n",
            "['1', '0', '0', '0', '0', '0', 'S']\n",
            "['1', '1', '0', '1', '1', '1', '1']\n",
            "['1', '1', 'E', '1', '1', '1', '1']\n",
            "---------------------\n",
            "------\n",
            "| (6, 2) |\n",
            "//////\n",
            "\n"
          ],
          "name": "stdout"
        },
        {
          "output_type": "error",
          "ename": "AttributeError",
          "evalue": "ignored",
          "traceback": [
            "\u001b[0;31m---------------------------------------------------------------------------\u001b[0m",
            "\u001b[0;31mAttributeError\u001b[0m                            Traceback (most recent call last)",
            "\u001b[0;32m<ipython-input-71-6df7cbe88cbc>\u001b[0m in \u001b[0;36m<module>\u001b[0;34m()\u001b[0m\n\u001b[1;32m      3\u001b[0m \u001b[0mlaberinto\u001b[0m\u001b[0;34m.\u001b[0m\u001b[0mmostrar\u001b[0m\u001b[0;34m(\u001b[0m\u001b[0;34m)\u001b[0m\u001b[0;34m\u001b[0m\u001b[0;34m\u001b[0m\u001b[0m\n\u001b[1;32m      4\u001b[0m \u001b[0mlaberinto\u001b[0m\u001b[0;34m.\u001b[0m\u001b[0mimprimir_camino\u001b[0m\u001b[0;34m(\u001b[0m\u001b[0;34m)\u001b[0m\u001b[0;34m\u001b[0m\u001b[0;34m\u001b[0m\u001b[0m\n\u001b[0;32m----> 5\u001b[0;31m \u001b[0mlaberinto\u001b[0m\u001b[0;34m.\u001b[0m\u001b[0mresolver\u001b[0m\u001b[0;34m(\u001b[0m\u001b[0;34m)\u001b[0m\u001b[0;34m\u001b[0m\u001b[0;34m\u001b[0m\u001b[0m\n\u001b[0m",
            "\u001b[0;32m<ipython-input-70-3a40452c6d1c>\u001b[0m in \u001b[0;36mresolver\u001b[0;34m(self)\u001b[0m\n\u001b[1;32m     40\u001b[0m         \u001b[0;31m# creo que lo solucione\u001b[0m\u001b[0;34m\u001b[0m\u001b[0;34m\u001b[0m\u001b[0;34m\u001b[0m\u001b[0m\n\u001b[1;32m     41\u001b[0m         \u001b[0;31m#Buscar arriba\u001b[0m\u001b[0;34m\u001b[0m\u001b[0;34m\u001b[0m\u001b[0;34m\u001b[0m\u001b[0m\n\u001b[0;32m---> 42\u001b[0;31m         \u001b[0;32melif\u001b[0m \u001b[0mself\u001b[0m\u001b[0;34m.\u001b[0m\u001b[0m__laberinto\u001b[0m\u001b[0;34m.\u001b[0m\u001b[0mget_item\u001b[0m\u001b[0;34m(\u001b[0m \u001b[0mactual\u001b[0m\u001b[0;34m[\u001b[0m\u001b[0;36m0\u001b[0m\u001b[0;34m]\u001b[0m\u001b[0;34m-\u001b[0m\u001b[0;36m1\u001b[0m\u001b[0;34m,\u001b[0m \u001b[0mactual\u001b[0m\u001b[0;34m[\u001b[0m\u001b[0;36m1\u001b[0m\u001b[0;34m]\u001b[0m\u001b[0;34m)\u001b[0m \u001b[0;34m==\u001b[0m \u001b[0;34m'0'\u001b[0m \u001b[0;32mand\u001b[0m \u001b[0mself\u001b[0m\u001b[0;34m.\u001b[0m\u001b[0m__laberinto\u001b[0m\u001b[0;34m.\u001b[0m\u001b[0mget_item\u001b[0m\u001b[0;34m(\u001b[0m\u001b[0mactual\u001b[0m\u001b[0;34m[\u001b[0m\u001b[0;36m0\u001b[0m\u001b[0;34m]\u001b[0m\u001b[0;34m-\u001b[0m\u001b[0;36m1\u001b[0m\u001b[0;34m,\u001b[0m \u001b[0mactual\u001b[0m\u001b[0;34m[\u001b[0m\u001b[0;36m1\u001b[0m\u001b[0;34m]\u001b[0m \u001b[0;34m)\u001b[0m \u001b[0;34m!=\u001b[0m \u001b[0;34m'x'\u001b[0m\u001b[0;32mand\u001b[0m \u001b[0mself\u001b[0m\u001b[0;34m.\u001b[0m\u001b[0m__previa\u001b[0m \u001b[0;34m!=\u001b[0m \u001b[0;34m(\u001b[0m\u001b[0mactual\u001b[0m\u001b[0;34m[\u001b[0m\u001b[0;36m0\u001b[0m\u001b[0;34m]\u001b[0m\u001b[0;34m-\u001b[0m\u001b[0;36m1\u001b[0m \u001b[0;34m,\u001b[0m \u001b[0mactual\u001b[0m\u001b[0;34m[\u001b[0m\u001b[0;36m1\u001b[0m\u001b[0;34m]\u001b[0m \u001b[0;34m)\u001b[0m\u001b[0;34m:\u001b[0m\u001b[0;34m\u001b[0m\u001b[0;34m\u001b[0m\u001b[0m\n\u001b[0m\u001b[1;32m     43\u001b[0m             \u001b[0mself\u001b[0m\u001b[0;34m.\u001b[0m\u001b[0m__previa\u001b[0m \u001b[0;34m=\u001b[0m \u001b[0mactual\u001b[0m\u001b[0;34m\u001b[0m\u001b[0;34m\u001b[0m\u001b[0m\n\u001b[1;32m     44\u001b[0m             \u001b[0mself\u001b[0m\u001b[0;34m.\u001b[0m\u001b[0m__camino\u001b[0m\u001b[0;34m.\u001b[0m\u001b[0mpush\u001b[0m\u001b[0;34m(\u001b[0m\u001b[0;34m(\u001b[0m\u001b[0mactual\u001b[0m\u001b[0;34m[\u001b[0m\u001b[0;36m0\u001b[0m\u001b[0;34m]\u001b[0m\u001b[0;34m-\u001b[0m\u001b[0;36m1\u001b[0m\u001b[0;34m,\u001b[0m \u001b[0mactual\u001b[0m\u001b[0;34m[\u001b[0m\u001b[0;36m1\u001b[0m\u001b[0;34m]\u001b[0m\u001b[0;34m)\u001b[0m\u001b[0;34m)\u001b[0m\u001b[0;34m\u001b[0m\u001b[0;34m\u001b[0m\u001b[0m\n",
            "\u001b[0;31mAttributeError\u001b[0m: 'LaberintoADT' object has no attribute '_LaberintoADT__previa'"
          ]
        }
      ]
    }
  ]
}