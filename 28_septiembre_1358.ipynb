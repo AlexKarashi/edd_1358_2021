{
  "nbformat": 4,
  "nbformat_minor": 0,
  "metadata": {
    "colab": {
      "name": "28/septiembre_1358.ipynb",
      "provenance": [],
      "authorship_tag": "ABX9TyOXosPqoplKK9PqLZdGkRJ4",
      "include_colab_link": true
    },
    "kernelspec": {
      "name": "python3",
      "display_name": "Python 3"
    }
  },
  "cells": [
    {
      "cell_type": "markdown",
      "metadata": {
        "id": "view-in-github",
        "colab_type": "text"
      },
      "source": [
        "<a href=\"https://colab.research.google.com/github/AlexKarashi/edd_1358_2021/blob/master/28_septiembre_1358.ipynb\" target=\"_parent\"><img src=\"https://colab.research.google.com/assets/colab-badge.svg\" alt=\"Open In Colab\"/></a>"
      ]
    },
    {
      "cell_type": "code",
      "metadata": {
        "id": "iPraWyu0sA5-",
        "outputId": "358c9e1f-5358-4bd5-d0a2-310005496822",
        "colab": {
          "base_uri": "https://localhost:8080/",
          "height": 35
        }
      },
      "source": [
        "print(\"Whazu colab\")\n",
        "nombre = \"EdD\"\n",
        "val = 10\n"
      ],
      "execution_count": 5,
      "outputs": [
        {
          "output_type": "stream",
          "text": [
            "Whazu colab\n"
          ],
          "name": "stdout"
        }
      ]
    },
    {
      "cell_type": "code",
      "metadata": {
        "id": "hA-Sxu4EsTcP",
        "outputId": "ab95b7c9-2dd0-410f-ecbe-d936d50a02ba",
        "colab": {
          "base_uri": "https://localhost:8080/",
          "height": 54
        }
      },
      "source": [
        "print (nombre)\n",
        "print (val)\n"
      ],
      "execution_count": 6,
      "outputs": [
        {
          "output_type": "stream",
          "text": [
            "EdD\n",
            "10\n"
          ],
          "name": "stdout"
        }
      ]
    },
    {
      "cell_type": "markdown",
      "metadata": {
        "id": "3Q6JO719ppxY"
      },
      "source": [
        "**Sintaxis markdown**\n",
        "\n",
        "\n",
        "*   elem 1\n",
        "*   elem 2\n",
        "*   elem 3\n",
        "\n",
        "\n",
        "   \n",
        "1.   fresa\n",
        "2.   manzana\n",
        "3.   pera\n",
        "4.   adasad"
      ]
    },
    {
      "cell_type": "code",
      "metadata": {
        "id": "CLIv1jVHk9R4"
      },
      "source": [
        "class Silla():\n",
        "  def __init__(self):\n",
        "    self.material = \"\"\n",
        "    self.color = \"\" \n",
        "\n",
        "  def to_string ( self ):\n",
        "      print( \"-----\")\n",
        "      print( f\"Material: {self.material} \" )\n",
        "      print( f\"{self.color} -----\")\n",
        "  "
      ],
      "execution_count": 3,
      "outputs": []
    },
    {
      "cell_type": "markdown",
      "metadata": {
        "id": "VnJ2BU0ypoVi"
      },
      "source": [
        ""
      ]
    },
    {
      "cell_type": "code",
      "metadata": {
        "id": "feEXSFqTk95g",
        "outputId": "d7471f0d-3eaa-418d-e69c-72b296be5420",
        "colab": {
          "base_uri": "https://localhost:8080/",
          "height": 72
        }
      },
      "source": [
        "obj = Silla()\n",
        "obj.material = \"madera\"\n",
        "obj.color = \"Rojo\"\n",
        "obj.to_string()"
      ],
      "execution_count": 4,
      "outputs": [
        {
          "output_type": "stream",
          "text": [
            "-----\n",
            "Material: madera \n",
            "Rojo -----\n"
          ],
          "name": "stdout"
        }
      ]
    }
  ]
}